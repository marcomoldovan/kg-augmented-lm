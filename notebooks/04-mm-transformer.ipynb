{
 "cells": [
  {
   "cell_type": "code",
   "execution_count": 6,
   "metadata": {},
   "outputs": [],
   "source": [
    "import torch\n",
    "import torch.nn as nn"
   ]
  },
  {
   "cell_type": "code",
   "execution_count": 19,
   "metadata": {},
   "outputs": [],
   "source": [
    "class PositionalEncoding(nn.Module):\n",
    "    def __init__(self, d_model, max_len=5000):\n",
    "        super(PositionalEncoding, self).__init__()\n",
    "        \n",
    "        # Compute the positional encodings once in log space.\n",
    "        pe = torch.zeros(max_len, d_model)\n",
    "        position = torch.arange(0, max_len, dtype=torch.float).unsqueeze(1)\n",
    "        div_term = torch.exp(torch.arange(0, d_model, 2).float() * (-torch.log(torch.tensor(10000.0)) / d_model))\n",
    "        pe[:, 0::2] = torch.sin(position * div_term)\n",
    "        pe[:, 1::2] = torch.cos(position * div_term)\n",
    "        pe = pe.unsqueeze(0)\n",
    "        self.register_buffer('pe', pe)\n",
    "\n",
    "    def forward(self, x):\n",
    "        \"\"\"\n",
    "        :param x: Tensor of shape [batch_size, seq_length, d_model]\n",
    "        :return: Tensor with positional encoding added.\n",
    "        \"\"\"\n",
    "        x = x + self.pe[:, :x.size(1)]\n",
    "        return x"
   ]
  },
  {
   "cell_type": "code",
   "execution_count": 22,
   "metadata": {},
   "outputs": [],
   "source": [
    "vocab_size = 32768\n",
    "latent_dim = 128\n",
    "num_heads = 2\n",
    "num_layers = 2\n",
    "batch_size = 32\n",
    "timesteps = 64"
   ]
  },
  {
   "cell_type": "code",
   "execution_count": 23,
   "metadata": {},
   "outputs": [],
   "source": [
    "embed = nn.Embedding(\n",
    "    num_embeddings=vocab_size, \n",
    "    embedding_dim=latent_dim)\n",
    "\n",
    "pos = PositionalEncoding(latent_dim)\n",
    "\n",
    "encoder_layer_in = nn.TransformerEncoderLayer(\n",
    "    d_model=latent_dim, \n",
    "    nhead=num_heads)\n",
    "text_transformer_encoder = nn.TransformerEncoder(\n",
    "    encoder_layer_in, \n",
    "    num_layers=num_layers)"
   ]
  },
  {
   "cell_type": "code",
   "execution_count": 31,
   "metadata": {},
   "outputs": [
    {
     "name": "stdout",
     "output_type": "stream",
     "text": [
      "torch.Size([32, 64]) torch.Size([32, 64])\n",
      "torch.Size([64, 32, 128]) torch.Size([32, 64])\n",
      "torch.Size([32, 64, 128])\n"
     ]
    }
   ],
   "source": [
    "input_seq = torch.randint(\n",
    "    low=0, high=vocab_size, size=(batch_size, timesteps))\n",
    "input_attention_masks = torch.ones(\n",
    "    (batch_size, timesteps), dtype=torch.float32)\n",
    "print(input_seq.shape, input_attention_masks.shape)\n",
    "\n",
    "x = pos(embed(input_seq)).permute(1, 0, 2)\n",
    "\n",
    "# Transpose the tensor\n",
    "input_attention_masks = input_attention_masks\n",
    "\n",
    "print(x.shape, input_attention_masks.shape)\n",
    "x = text_transformer_encoder(x, src_key_padding_mask=input_attention_masks)\n",
    "print(x.permute(1,0,2).shape)"
   ]
  },
  {
   "cell_type": "code",
   "execution_count": 37,
   "metadata": {},
   "outputs": [
    {
     "name": "stdout",
     "output_type": "stream",
     "text": [
      "torch.Size([32, 4, 128])\n"
     ]
    }
   ],
   "source": [
    "bottleneck = nn.Embedding(4, latent_dim)\n",
    "bottleneck = bottleneck.weight.unsqueeze(0).repeat(batch_size, 1, 1)\n",
    "print(bottleneck.shape)"
   ]
  },
  {
   "cell_type": "code",
   "execution_count": null,
   "metadata": {},
   "outputs": [],
   "source": []
  }
 ],
 "metadata": {
  "kernelspec": {
   "display_name": "ipykernel-3.11.5",
   "language": "python",
   "name": "python3"
  },
  "language_info": {
   "codemirror_mode": {
    "name": "ipython",
    "version": 3
   },
   "file_extension": ".py",
   "mimetype": "text/x-python",
   "name": "python",
   "nbconvert_exporter": "python",
   "pygments_lexer": "ipython3",
   "version": "3.11.5"
  },
  "orig_nbformat": 4
 },
 "nbformat": 4,
 "nbformat_minor": 2
}
