{
 "cells": [
  {
   "cell_type": "code",
   "execution_count": 5,
   "metadata": {},
   "outputs": [],
   "source": [
    "import os\n",
    "import gzip\n",
    "import json\n",
    "import marisa_trie"
   ]
  },
  {
   "cell_type": "code",
   "execution_count": 6,
   "metadata": {},
   "outputs": [
    {
     "name": "stdout",
     "output_type": "stream",
     "text": [
      "/home/kg-augmented-lm/notebooks\n"
     ]
    }
   ],
   "source": [
    "print(os.getcwd())"
   ]
  },
  {
   "cell_type": "code",
   "execution_count": 7,
   "metadata": {},
   "outputs": [],
   "source": [
    "corpus_path = os.path.join(os.getcwd(), '../data/wikidata5m/wikidata5m_text.txt.gz')\n",
    "alias_path = os.path.join(os.getcwd(), '../data/wikidata5m/wikidata5m_alias.tar.gz')\n",
    "nq_path = os.path.join(os.getcwd(), '../data/natural_questions/simplified-nq-train.jsonl.gz')"
   ]
  },
  {
   "cell_type": "code",
   "execution_count": 8,
   "metadata": {},
   "outputs": [],
   "source": [
    "def filter_alias(alias):\n",
    "    common_words = {'the', 'a', 'is', 'an', 'of', 'and', 'in', 'on', 'for', 'to', 'by', 'with', 'out', 'at', 'from', 'as', 'into', 'onto', 'upon', 'after', 'before', 'over', 'under', 'between', 'among', 'through', 'during', 'since', 'until', 'against', 'without', 'towards', 'amongst', 'amongst', 'within', 'throughout', 'despite', 'along', 'alongside', 'besides', 'beyond', 'near', 'above', 'below', 'behind', 'underneath', 'underneath', 'opposite', 'adjacent', 'outside', 'inside', 'benefit'}\n",
    "    if alias in common_words:\n",
    "        return False\n",
    "    elif len(alias) < 3:\n",
    "        return False\n",
    "    else:\n",
    "        return True"
   ]
  },
  {
   "cell_type": "code",
   "execution_count": 9,
   "metadata": {},
   "outputs": [],
   "source": [
    "def build_marisa_trie_from_aliases(alias_file):\n",
    "    # Read the aliases file\n",
    "    with gzip.open(alias_file, 'rt', encoding='utf-8', errors='ignore') as file:\n",
    "        lines = file.readlines()[1:4813490]\n",
    "    \n",
    "    alias_to_id = {}\n",
    "    for line in lines:\n",
    "        aliases = line.strip().split('\\t')\n",
    "        for alias in aliases[1:]:\n",
    "            if filter_alias(alias):\n",
    "                alias_to_id[alias] = aliases[0]\n",
    "\n",
    "    # Build the marisa-trie\n",
    "    trie = marisa_trie.Trie(alias_to_id.keys())\n",
    "\n",
    "    # Get memory usage (rough estimate)\n",
    "\n",
    "    return trie, alias_to_id"
   ]
  },
  {
   "cell_type": "code",
   "execution_count": 10,
   "metadata": {},
   "outputs": [],
   "source": [
    "trie, alias_to_id = build_marisa_trie_from_aliases(alias_path)"
   ]
  },
  {
   "cell_type": "code",
   "execution_count": 11,
   "metadata": {},
   "outputs": [],
   "source": [
    "def link_entities(trie, alias_to_id, document):\n",
    "    tokens = document.split()  # Basic whitespace-based tokenization\n",
    "    i = 0\n",
    "    entities_found = []\n",
    "\n",
    "    while i < len(tokens):\n",
    "        longest_match = None\n",
    "        longest_match_length = 0\n",
    "        current_string = tokens[i].lower()\n",
    "\n",
    "        # Check for entity match starting from the current token\n",
    "        if current_string in trie:\n",
    "            entity_id = alias_to_id[current_string]\n",
    "            longest_match = (entity_id, i, i)\n",
    "            longest_match_length = 1\n",
    "\n",
    "        # Extend the match to subsequent tokens to find longer matches\n",
    "        j = i + 1\n",
    "        while j < len(tokens) and current_string in trie:\n",
    "            current_string += \" \" + tokens[j].lower()\n",
    "            if current_string in trie:\n",
    "                entity_id = alias_to_id[current_string]\n",
    "                longest_match = (entity_id, i, j)\n",
    "                longest_match_length = j - i + 1\n",
    "            j += 1\n",
    "\n",
    "        # If a match was found, add it to entities_found and skip the matched tokens\n",
    "        if longest_match:\n",
    "            entities_found.append(longest_match)\n",
    "            i += longest_match_length\n",
    "        else:\n",
    "            i += 1\n",
    "\n",
    "    # Convert token positions to character positions\n",
    "    char_entities_found = []\n",
    "    char_pos = 0\n",
    "    token_index = 0\n",
    "    for entity in entities_found:\n",
    "        while token_index < entity[1]:\n",
    "            char_pos += len(tokens[token_index]) + 1  # +1 for space\n",
    "            token_index += 1\n",
    "        start_pos = char_pos\n",
    "        while token_index <= entity[2]:\n",
    "            char_pos += len(tokens[token_index]) + 1\n",
    "            token_index += 1\n",
    "        end_pos = char_pos - 2  # -1 for last space, -1 to get the end of the word\n",
    "        char_entities_found.append((entity[0], start_pos, end_pos))\n",
    "        \n",
    "    return char_entities_found"
   ]
  },
  {
   "cell_type": "code",
   "execution_count": 12,
   "metadata": {},
   "outputs": [
    {
     "data": {
      "text/plain": [
       "'Q782'"
      ]
     },
     "execution_count": 12,
     "metadata": {},
     "output_type": "execute_result"
    }
   ],
   "source": [
    "alias_to_id['Hawaii']"
   ]
  },
  {
   "cell_type": "code",
   "execution_count": 13,
   "metadata": {},
   "outputs": [],
   "source": [
    "sorted_alias_to_id = sorted(list(alias_to_id.items()), key = lambda key : len(key[0]))"
   ]
  },
  {
   "cell_type": "code",
   "execution_count": 14,
   "metadata": {},
   "outputs": [
    {
     "data": {
      "text/plain": [
       "[('AER', 'Q1138408'),\n",
       " ('雪代巴', 'Q7574735'),\n",
       " ('緋村巴', 'Q7574735'),\n",
       " ('경기도', 'Q20937'),\n",
       " ('京畿道', 'Q20937'),\n",
       " ('la♭', 'Q549905'),\n",
       " ('La♭', 'Q549905'),\n",
       " ('j65', 'Q2594466'),\n",
       " ('J65', 'Q2594466'),\n",
       " ('φσα', 'Q2740587'),\n",
       " ('ΦΣΑ', 'Q2740587'),\n",
       " ('하리수', 'Q482786'),\n",
       " ('이경엽', 'Q482786'),\n",
       " ('이경은', 'Q482786'),\n",
       " ('박가희', 'Q488725'),\n",
       " ('박지영', 'Q488725'),\n",
       " ('賈曉晨', 'Q712083'),\n",
       " ('rd/', 'Q630961'),\n",
       " ('RD/', 'Q630961'),\n",
       " ('NET', 'Q64138'),\n",
       " ('vog', 'Q1433263'),\n",
       " ('VOG', 'Q1433263'),\n",
       " ('H₂O', 'Q130615'),\n",
       " ('h₂o', 'Q130615'),\n",
       " ('b26', 'Q562167'),\n",
       " ('B26', 'Q562167'),\n",
       " ('A26', 'Q562167'),\n",
       " ('a26', 'Q562167'),\n",
       " ('iyf', 'Q190193'),\n",
       " ('Iyf', 'Q190193'),\n",
       " ('1am', 'Q855630'),\n",
       " ('1mm', 'Q855630'),\n",
       " ('1Gm', 'Q855630'),\n",
       " ('1cm', 'Q855630'),\n",
       " ('1nm', 'Q855630'),\n",
       " ('1pm', 'Q855630'),\n",
       " ('1Ym', 'Q855630'),\n",
       " ('1fm', 'Q855630'),\n",
       " ('1 m', 'Q855630'),\n",
       " ('1Zm', 'Q855630'),\n",
       " ('1hm', 'Q855630'),\n",
       " ('1Pm', 'Q855630'),\n",
       " ('1zm', 'Q855630'),\n",
       " ('1gm', 'Q855630'),\n",
       " ('1km', 'Q855630'),\n",
       " ('1ym', 'Q855630'),\n",
       " ('1Tm', 'Q855630'),\n",
       " ('1dm', 'Q855630'),\n",
       " ('1Mm', 'Q855630'),\n",
       " ('1um', 'Q855630'),\n",
       " ('1tm', 'Q855630'),\n",
       " ('Ahn', 'Q45749'),\n",
       " ('2af', 'Q7443012'),\n",
       " ('2AF', 'Q7443012'),\n",
       " ('JDF', 'Q720038'),\n",
       " ('jdf', 'Q720038'),\n",
       " ('조선글', 'Q8222'),\n",
       " ('かりん', 'Q1068865'),\n",
       " ('ODY', 'Q4204372'),\n",
       " (\"n't\", 'Q198614'),\n",
       " (\"N'T\", 'Q198614'),\n",
       " ('LWQ', 'Q198614'),\n",
       " ('lwq', 'Q198614'),\n",
       " ('!--', 'Q198614'),\n",
       " ('QIZ', 'Q7268679'),\n",
       " ('HMT', 'Q578269'),\n",
       " ('hmt', 'Q578269'),\n",
       " ('3EB', 'Q1155385'),\n",
       " ('3eb', 'Q1155385'),\n",
       " ('IXZ', 'Q937462'),\n",
       " ('ixz', 'Q937462'),\n",
       " ('gey', 'Q190184'),\n",
       " ('Gēy', 'Q190184'),\n",
       " ('Gey', 'Q190184'),\n",
       " ('gēy', 'Q190184'),\n",
       " ('WJT', 'Q13436628'),\n",
       " ('wjt', 'Q13436628'),\n",
       " ('电车男', 'Q714451'),\n",
       " ('電車男', 'Q714451'),\n",
       " ('阮文雄', 'Q714958'),\n",
       " ('5¼\"', 'Q5293'),\n",
       " ('3½\"', 'Q5293'),\n",
       " ('rdg', 'Q7300558'),\n",
       " ('RDG', 'Q7300558'),\n",
       " ('シコン', 'Q15592453'),\n",
       " ('N Z', 'Q664'),\n",
       " ('N z', 'Q664'),\n",
       " ('NZL', 'Q664'),\n",
       " ('nzl', 'Q664'),\n",
       " ('n z', 'Q664'),\n",
       " ('uc7', 'Q7391745'),\n",
       " ('UC7', 'Q7391745'),\n",
       " ('a7x', 'Q4660975'),\n",
       " ('A7x', 'Q4660975'),\n",
       " ('ani', 'Q2474551'),\n",
       " ('重慶市', 'Q11725'),\n",
       " ('重庆市', 'Q11725'),\n",
       " ('I74', 'Q94667'),\n",
       " ('i74', 'Q94667'),\n",
       " ('Mby', 'Q6821344')]"
      ]
     },
     "execution_count": 14,
     "metadata": {},
     "output_type": "execute_result"
    }
   ],
   "source": [
    "sorted_alias_to_id[:100]"
   ]
  },
  {
   "cell_type": "code",
   "execution_count": 15,
   "metadata": {},
   "outputs": [
    {
     "name": "stdout",
     "output_type": "stream",
     "text": [
      "[('Q76', 0, 11), ('Q782', 25, 30), ('Q61061', 61, 69), ('Q30', 78, 90), ('Q8445', 111, 117), ('Q200', 145, 147), ('Q444353', 171, 175), ('Q61061', 183, 191), ('Q30', 200, 212), ('Q3220821', 230, 236), ('Q30', 245, 257), ('Q30', 262, 268), ('Q61', 273, 287), ('Q11651', 293, 299), ('Q61061', 301, 309), ('Q30', 318, 330), ('Q30', 335, 341), ('Q2057908', 346, 351), ('Q22686', 360, 371), ('Q22686', 390, 401), ('Q8445', 406, 412), ('Q16279311', 417, 423), ('Q22686', 432, 443), ('Q203', 449, 452), ('Q22686', 464, 475), ('Q61061', 489, 497), ('Q30', 506, 518)]\n"
     ]
    }
   ],
   "source": [
    "sample_text = \"Barack Obama was born in Hawaii that is for sure. He was the president of the United States of America. He was married to Michelle Obama. He has two daughters. He was the first black president of the United States of America. The capital of the United States of America is Washington D.C. The current president of the United States of America is Donald Trump. Donald Trump is a republican. Donald Trump is married to Melania Trump. Donald Trump has five children. Donald Trump is the 45th president of the United States of America.\"\n",
    "entities = link_entities(trie, alias_to_id, sample_text)\n",
    "print(entities)"
   ]
  },
  {
   "cell_type": "code",
   "execution_count": 17,
   "metadata": {},
   "outputs": [
    {
     "name": "stdout",
     "output_type": "stream",
     "text": [
      "1-node short answers out of all: 58423/307372 (19.01%))\n",
      "[('Tracy McConnell', 'Q15362106'), ('Tom Brady', 'Q313381'), ('Pom Klementieff', 'Q3395911'), ('SFR Sport', 'Q724353'), ('Persian Gulf', 'Q34675'), ('Kareem Abdul - Jabbar', 'Q700685'), ('six', 'Q23488'), ('1936', 'Q18649'), (\"Leon `` Kida '' Burns\", 'Q3085442'), ('Freddie Highmore', 'Q296887')]\n",
      "\n",
      "\n",
      "Multiple-node short answers out of all: 36670/307372 (11.93%))\n",
      "[\"a newsletter sent to an advertising firm 's customers\", 'the use of lush string arrangements with a real orchestra and often , background vocals provided by a choir', 'an adult licensed driver who is at least 21 years of age or older and in the passenger seat of the vehicle at all times', 'March 30 , 2018', 'Miroslav Lajčák of Slovakia', 'every Wednesday and Saturday evening at 10 : 59 p.m. Eastern Time', 'August 21 , 2017', 'January 26 , 2018', 'Tokyo for the 2020 Summer Olympics', 'an attempt to establish the sovereignty it had claimed over them']\n"
     ]
    }
   ],
   "source": [
    "from transformers import AutoTokenizer\n",
    "\n",
    "tokenizer = AutoTokenizer.from_pretrained(\"gpt2\")\n",
    "\n",
    "with gzip.open(nq_path, 'rt', encoding='utf-8') as f:\n",
    "    short_document_texts = 0\n",
    "    single_entity_answers = 0\n",
    "    multiple_entity_answers = 0\n",
    "    short_document_lengths = []\n",
    "    one_node_short_answers = []\n",
    "    multiple_node_short_answers = []\n",
    "    one_node_short_answer_entities = []\n",
    "    for i, line in enumerate(f):\n",
    "        entry = json.loads(line)\n",
    "        \n",
    "        question = entry['question_text']\n",
    "        short_answer = entry['annotations'][0]['short_answers']\n",
    "        long_answer = entry['annotations'][0]['long_answer']['candidate_index']\n",
    "        \n",
    "        if (short_answer != []) and (long_answer != -1):\n",
    "            # num_token_ids = len(tokenizer(entry['document_text'])['input_ids'])\n",
    "            \n",
    "            # if num_token_ids < 256:\n",
    "            #     short_document_texts += 1\n",
    "            #     short_document_lengths.append(num_token_ids)\n",
    "            \n",
    "            answer = \" \".join(entry['document_text'].split(' ')[short_answer[0]['start_token']:short_answer[0]['end_token']])\n",
    "            entities = link_entities(trie, alias_to_id, answer)\n",
    "            if len(entities) == 1:\n",
    "                single_entity_answers += 1\n",
    "                one_node_short_answers.append(answer)\n",
    "                one_node_short_answer_entities.append(entities[0][0])\n",
    "            elif len(entities) > 1:\n",
    "                multiple_entity_answers += 1\n",
    "                multiple_node_short_answers.append(answer)\n",
    "                \n",
    "                # if i > 10000:\n",
    "                #     print(counter)\n",
    "                #     break\n",
    "    answer_id_pairs = list(zip(one_node_short_answers, one_node_short_answer_entities))\n",
    "    \n",
    "    # print(f\"Short document texts out of all: {short_document_texts}/{i} ({short_document_texts/i*100:.2f}%))\")\n",
    "    # print(f\"Average length of short documents: {sum(short_document_lengths)/len(short_document_lengths):.2f}\")\n",
    "    \n",
    "    # print('\\n')    \n",
    "    \n",
    "    print(f\"1-node short answers out of all: {single_entity_answers}/{i} ({single_entity_answers/i*100:.2f}%))\")\n",
    "    print(answer_id_pairs[:10])\n",
    "    \n",
    "    print('\\n')\n",
    "    \n",
    "    print(f\"Multiple-node short answers out of all: {multiple_entity_answers}/{i} ({multiple_entity_answers/i*100:.2f}%))\")\n",
    "    print(multiple_node_short_answers[:10])"
   ]
  },
  {
   "cell_type": "code",
   "execution_count": 99,
   "metadata": {},
   "outputs": [
    {
     "name": "stdout",
     "output_type": "stream",
     "text": [
      "[('Tracy McConnell', 'Q15362106'), ('Tom Brady', 'Q313381'), ('Pom Klementieff', 'Q3395911'), ('SFR Sport', 'Q724353'), ('Persian Gulf', 'Q34675'), ('Kareem Abdul - Jabbar', 'Q700685'), ('six', 'Q23488'), ('1936', 'Q18649'), (\"Leon `` Kida '' Burns\", 'Q3085442'), ('Freddie Highmore', 'Q296887'), ('brain', 'Q562892'), ('Adam Sandler', 'Q132952'), ('Manchester United', 'Q18656'), ('The Lego Movie', 'Q2608065'), ('atoms', 'Q1324392'), ('Freak the Freak Out', 'Q489322'), ('Seyseys , chief of the Canarsees', 'Q1162163'), ('2017', 'Q25290'), ('Instagram', 'Q209330'), ('$140 billion +', 'Q16021'), ('The Black Dirt Region', 'Q36784'), ('tabla', 'Q213100'), ('Gary Oldman', 'Q83492'), ('season six finale', 'Q23488'), ('April 25 , 2018', 'Q25291'), ('Ellen Burstyn', 'Q211144'), ('Dublin', 'Q1761'), ('Tina Cole', 'Q212772'), ('Torrens title', 'Q56019'), ('Rosemary Butler', 'Q7368322'), ('2016', 'Q25245'), ('Arkansas', 'Q1612'), ('Michael Jackson', 'Q2831'), ('UB40', 'Q560153'), ('13.7 % of the GDP', 'Q12638'), ('1940', 'Q18633'), ('1939', 'Q18639'), ('Franklin D. Roosevelt', 'Q8007'), (\"Uzoamaka Nwanneka `` Uzo '' Aduba\", 'Q7905095'), ('2018', 'Q25291'), ('2008 -- 09', 'Q2004'), ('Reye syndrome', 'Q826103'), ('Brenden Jefferson', 'Q3185137'), (\"Florence 's Galleria dell'Accademia\", 'Q2044'), ('June 5 , 1976', 'Q2480'), ('1986', 'Q2430'), ('Mark Williams', 'Q7577176'), ('wrought iron', 'Q677'), ('Hermaphroditus', 'Q204146'), ('The Breakfast Club', 'Q499152'), ('Neil Diamond', 'Q294531'), ('Noël Regney', 'Q7067499'), ('Mariska Magdolna Hargitay', 'Q14945087'), ('1634', 'Q6872'), ('acetabulum', 'Q1130461'), ('Foodstuffs', 'Q5465572'), ('BMW', 'Q26678'), ('1679', 'Q7638'), ('electron', 'Q2225'), ('1992', 'Q2060'), ('Baily Bridge', 'Q188966'), ('the Richfield Coliseum', 'Q10285'), ('The United States', 'Q30'), ('Warner Bros.', 'Q126399'), ('Woodkid', 'Q1888059'), ('Dania Ramirez', 'Q1045908'), ('Probability', 'Q9492'), ('Blue Naomi', 'Q22957923'), ('Mexico', 'Q96'), ('Gonzales', 'Q1532874'), ('The Fifth and Fourteenth Amendments', 'Q53463'), ('Blake Gibbons', 'Q4924396'), ('Patrick Breen', 'Q2057449'), ('atheism', 'Q7066'), ('Freddie Mercury', 'Q15869'), ('Freddie Highmore', 'Q296887'), ('Kareem Abdul - Jabbar', 'Q700685'), ('Kavan Smith', 'Q1639825'), ('the American South', 'Q49042'), ('1979 -- 80 season', 'Q2484'), ('Mahendra Singh Dhoni', 'Q2289233'), ('Miley Cyrus', 'Q4235'), ('John Ritter', 'Q314812'), ('2007', 'Q2024'), ('The Waybury Inn', 'Q824258'), ('Jeanette Olsson', 'Q21497082'), ('Colin Mochrie', 'Q1108607'), ('approximately 4,400', 'Q5727902'), ('1993', 'Q2065'), ('over US $22 billion', 'Q16021'), ('Manhattan', 'Q11299'), ('Puritans', 'Q137073'), ('Eva Bella', 'Q235719'), (\"the season finale , `` The Job , ''\", 'Q192581'), ('The Beatles', 'Q1299'), ('April 20 , 2018', 'Q25291'), ('1998', 'Q2089'), (\"Fiona O'Loughlin\", 'Q662373'), ('Nights of Cabiria', 'Q1024861'), ('Marshall', 'Q111837'), ('Chicago', 'Q1297'), ('( full moon ) .', 'Q405'), ('in 1972', 'Q2476'), ('1969', 'Q2485'), ('in the stroma', 'Q949627'), ('The IW engine', 'Q2622299'), ('1961', 'Q3696'), ('Curtis Baldwin', 'Q1248238'), ('Billy Redden', 'Q4913218'), ('Taiwan', 'Q865'), ('heroin addiction', 'Q1639178'), ('1966', 'Q2649'), ('1957', 'Q5311'), ('1957', 'Q5311'), ('the United States', 'Q30'), ('legislative', 'Q11204'), ('Cowboys', 'Q204862'), ('1951', 'Q18591'), ('William Butler Yeats', 'Q40213'), ('missionaries', 'Q16681381'), ('Onomatopoeia', 'Q170239'), ('Katharine Hepburn', 'Q663654'), ('1834', 'Q7591'), ('George VI', 'Q280856'), ('186 countries and territories', 'Q33222'), ('November 19', 'Q3026'), ('Cleo King', 'Q2978917'), ('July 2018', 'Q25291'), ('Daniel Peter Masterson', 'Q374220'), ('Eagles', 'Q219714'), ('nuclear weapons', 'Q728'), ('Dev', 'Q5482740'), ('Supernatural', 'Q80837'), ('342', 'Q34539'), ('Sridevi', 'Q270691'), ('during the 27th century BC', 'Q578'), ('86 ° 30 ′ N 172 ° 36 ′ W \\ufeff / \\ufeff 86.5 ° N 172.6 ° W', 'Q31296'), ('Washington Nationals', 'Q825838'), ('Mandarin', 'Q125337'), ('physical training', 'Q219067'), ('Roger Federer', 'Q1426'), ('Will Sandin', 'Q1441519'), ('Jack Bruce', 'Q313683'), ('America', 'Q30'), ('Anna Kendrick', 'Q67701'), ('June 20 , 2018', 'Q25291'), ('June 22 , 2018', 'Q25291'), ('Mark Lenard', 'Q940971'), ('Tipu Sultan', 'Q43292'), ('1910', 'Q2075'), ('Patrick Stump', 'Q314877'), ('Fifth Harmony', 'Q184421'), ('2004', 'Q2014'), ('2014', 'Q1999'), ('John Madden', 'Q328804'), ('George H.W. Bush', 'Q23505'), ('four', 'Q202'), ('evaporated milk', 'Q13417087'), ('Raffaella Modugno', 'Q16232286'), ('Ezra Miller', 'Q694116'), ('June 1915', 'Q2084'), ('Depeche Mode', 'Q482964'), ('Yondu Udonta', 'Q8054918'), ('1 July 2007', 'Q2024'), ('1991', 'Q2062'), ('Winona Ryder', 'Q2178198'), ('Actinote zikani', 'Q1755938'), ('Hebrew bible', 'Q1845'), ('Winston Churchill', 'Q8016'), ('April 22 , 2017', 'Q25290'), (\"Fiona O'Loughlin\", 'Q662373'), ('Alexander Pope', 'Q164047'), (\"Donald O'Connor\", 'Q348345'), ('New York', 'Q60'), ('Danny Boy', 'Q1164523'), ('1973', 'Q2477'), ('30 June 1991', 'Q2062'), ('acrobat', 'Q207902'), ('Tom', 'Q380627'), ('Bob Dylan', 'Q392'), ('Fort McHenry', 'Q1438634'), ('sacred fig', 'Q3071706'), ('Usain Bolt', 'Q1147806'), ('seven', 'Q23350'), ('Marcus Álvarez', 'Q6758557'), ('2008', 'Q2004'), ('Alan Shearer', 'Q1569439'), ('863 m', 'Q25052'), ('four', 'Q202'), ('Kimbra', 'Q235182'), ('Georgetown University', 'Q333886'), ('1918', 'Q2094'), ('James Harden', 'Q136678'), ('England', 'Q21'), ('1961', 'Q3696'), ('Matthew McConaughey', 'Q188955'), ('dorsal part of the diencephalon', 'Q192419'), ('Manchester City', 'Q50602'), ('Nick Andros', 'Q175741'), ('Special districts', 'Q149621'), ('a divergent plate boundary', 'Q7950'), ('Jeopardy !', 'Q499767'), ('Bebe Rexha', 'Q16185856'), ('Mesopotamia', 'Q11767'), ('2010', 'Q1995'), ('Walt Disney', 'Q8704'), ('September 3', 'Q2860'), ('Electronegativity', 'Q78974'), ('Trump', 'Q22686'), ('Maggie Smith', 'Q1639825'), (\"`` Business Trip ''\", 'Q5001808'), ('Simple Minds', 'Q21006490'), ('shoulder joint', 'Q1758798'), ('Baku', 'Q9248'), ('Edward Saxon', 'Q1293513'), ('2018', 'Q25291'), ('1988', 'Q2426'), ('The Last Guardian', 'Q2701341'), ('a vector', 'Q44528'), ('David Wenham', 'Q296328'), ('Jabi', 'Q6110168'), ('Michael Masser', 'Q1367289'), ('formaldehyde', 'Q161210'), ('Mary - Kate', 'Q696128'), ('Denis Norden', 'Q5257425'), ('1864', 'Q7704'), ('the late 15th century', 'Q578'), ('I Am Sam', 'Q3519761'), ('Chuck Berghofer', 'Q1089091'), ('Cleveland Cavaliers', 'Q162990'), ('$11.00 per hour', 'Q25235'), ('mid-20th century', 'Q578'), ('seven', 'Q23350'), ('tax revenues', 'Q385503'), ('Carolyn Rafaelian', 'Q16955970'), ('12 nautical miles', 'Q93318'), ('in the tenth season', 'Q7700879'), ('Meryl Davis', 'Q242921'), ('Don Henley', 'Q5714710'), ('Greg', 'Q922983'), ('Diane Venora', 'Q7920186'), ('Harold Melvin & the Blue Notes', 'Q1585918'), ('Tarana Burke', 'Q43177774'), ('Alessia Cara', 'Q20090091'), ('500', 'Q23610'), ('19 February 1996', 'Q2070'), ('From 2024', 'Q49619'), ('Denali', 'Q130018'), ('27 May 1967', 'Q13072276'), ('Annette Akroyd', 'Q16148465'), ('Hans Island', 'Q681389'), ('April 10 , 2018', 'Q25291'), ('Himachal Pradesh', 'Q1177'), ('100 km ( 62 mi ) above sea level', 'Q207988'), ('Stephen Curry', 'Q352159'), ('Serbia', 'Q403'), ('Jasper', 'Q201175'), ('Erosion', 'Q80026'), ('The Exciters', 'Q7732754'), ('19 June 2018', 'Q25291'), ('30 April 1975', 'Q2479'), ('1848', 'Q3588'), ('Thomas Middleditch', 'Q16239393'), ('MetLife Stadium', 'Q10862290'), ('Richard Masur', 'Q979778'), ('Jessica Collins', 'Q286512'), ('Malaika Arora', 'Q290322'), ('John Morris', 'Q931890'), ('Homer Banks', 'Q14158602'), ('Dan Hartman', 'Q24354068'), ('4 miles', 'Q253276'), ('2014', 'Q1999'), ('1958', 'Q5253'), ('June 2017', 'Q25290'), ('1994', 'Q2067'), ('Winston Churchill', 'Q8016'), ('1889', 'Q7831'), ('Miguel Cabrera', 'Q735354'), ('Mila Kunis', 'Q37628'), ('Taylor Swift', 'Q26876'), ('Taraji P. Henson', 'Q1607599'), ('Los Angeles', 'Q3376431'), ('2015', 'Q2002'), ('EFI V8', 'Q859398'), ('Lyndon B. Johnson', 'Q1158485'), ('2000', 'Q1985'), ('Bart Millard', 'Q4865095'), ('Christian Peter Coulson', 'Q5110027'), ('1937', 'Q18647'), ('ale', 'Q208385'), ('Francisco Gento', 'Q493081'), ('Islamic Republic of Afghanistan', 'Q889'), ('Renee Lawless - Orsini', 'Q13560563'), ('Yoga Jones', 'Q27645654'), ('Hamida Djandoubi', 'Q465589'), ('Hayden Christensen', 'Q192812'), ('Elizabeth', 'Q966588'), ('Washington D.C.', 'Q61'), ('Sami Gayle', 'Q509659'), ('Viv Richards', 'Q738016'), ('the 50th issue of 2016', 'Q25245'), ('Demetrious Johnson', 'Q1158485'), ('Byzantine', 'Q12544'), ('January 2014', 'Q1999'), ('Diana Baumrind', 'Q446567'), ('Karnataka', 'Q1185'), ('Ron Ely', 'Q5368397'), ('2002', 'Q1987'), ('Shreyan Bhattacharya', 'Q21509354'), ('Jim Gilstrap', 'Q1689103'), ('Molly', 'Q310951'), ('Wild dogs', 'Q8000615'), ('Danielle Brisebois', 'Q2212507'), ('Luke Bryan', 'Q166197'), ('Bishan Singh Bedi', 'Q2289233'), ('adhesion', 'Q188666'), ('Melanie Mayron', 'Q267243'), ('1998', 'Q2089'), ('Don Gibson', 'Q210278'), ('February 1964', 'Q5439758'), ('The Beatles', 'Q1299'), ('1937', 'Q18647'), ('John Cena', 'Q44437'), ('within the Northern Hemisphere', 'Q39061'), ('Julian Glover', 'Q3181600'), ('1979', 'Q2484'), ('vestibular system', 'Q178706'), ('July 2013', 'Q1998'), ('August 1991', 'Q2062'), ('R&R Partners', 'Q16961954'), ('Ronni Hawk', 'Q846664'), ('Scribblenauts', 'Q2000583'), ('134', 'Q31338'), ('Shelley Hennig', 'Q258710'), ('Noah Ringer', 'Q355069'), ('Crystal Lake', 'Q43533'), ('Jimmie Davis', 'Q429348'), (\"Carroll O'Connor\", 'Q555487'), ('Bernard Hill', 'Q310515'), ('Dan Castellaneta', 'Q52009'), ('eleven', 'Q37136'), ('Spain', 'Q29'), ('James Lastovic', 'Q185059'), ('India Arie', 'Q258750'), ('British', 'Q842438'), ('nine', 'Q19108'), ('2001', 'Q1988'), ('a high school', 'Q180958'), ('2008', 'Q2004'), ('2017', 'Q25290'), ('Athanasius', 'Q44024'), ('1990', 'Q2064'), ('Deerhoof', 'Q1109380'), ('Kevin Durant', 'Q29545'), ('168', 'Q24916'), ('Wilkerson', 'Q593218'), ('George V hotel', 'Q217708'), (\"This Boy '' ( UK )\", 'Q2075600'), ('ratify', 'Q193170'), ('2018', 'Q25291'), ('1 Corinthians 13 , verses 4 - 8 , and 13', 'Q35933'), ('Charles Darwin', 'Q1035'), ('Nolan Ryan', 'Q721948'), ('Émile Durkheim', 'Q15948'), ('Femur', 'Q176503'), ('2018', 'Q25291'), ('Abraham Lincoln', 'Q91'), ('1620', 'Q6810'), ('Albert Hammond', 'Q451075'), ('2017', 'Q25290'), ('Benedict Cumberbatch', 'Q27614831'), ('Georgia Bulldogs', 'Q2927996'), ('Kobe Bryant', 'Q25369'), ('Sri Lanka Matha', 'Q745806'), ('Kevin Eastman', 'Q718916'), ('643', 'Q31634'), ('Lauren Faust', 'Q262510'), ('Ross', 'Q456083'), ('Om Prakash Rawat', 'Q7399524'), ('Lee Horsley', 'Q1364128'), ('6 inches per year .', 'Q218593'), ('Loktak Lake', 'Q2995601'), ('1987', 'Q2429'), ('Elvis Presley', 'Q303'), ('15 miles', 'Q253276'), ('€ 9.88 ( $11 ) per hour', 'Q25235'), ('Felix Felicis', 'Q11967096'), ('Rajah', 'Q684172'), ('1985', 'Q2431'), ('Alabama Crimson Tide', 'Q971195'), ('Bryan Lee Cranston', 'Q23547'), ('1 September 1939', 'Q3478964'), ('Norman Greenbaum', 'Q971027'), ('the beginning of a nephron', 'Q58184'), ('Mandy Patinkin', 'Q267097'), ('in the epiphyseal plate', 'Q3391846'), ('Thomas Payne', 'Q7793066'), ('2013', 'Q1998'), ('The Smoking Man', 'Q1071461'), ('Real Madrid', 'Q2807'), ('Soviet Union', 'Q15180'), ('Stamford Bridge', 'Q188966'), ('the Champs - Élysées in Paris', 'Q90'), ('Charleston , South Carolina', 'Q192334'), ('Rick Aviles', 'Q2096412'), ('The New York Sun', 'Q1519334'), ('325', 'Q32577'), ('Windows XP', 'Q11248'), ('2009', 'Q1996'), ('Pentatonix', 'Q3374926'), ('1995', 'Q2068'), ('in the middle of the eighth inning', 'Q176903'), ('Kevin Kline', 'Q105817'), ('Ramin Djawadi', 'Q57577'), ('after the 1902 season', 'Q2043'), ('25 -- 35 minutes', 'Q7727'), ('2 molecules ATP', 'Q11369'), ('Genesis', 'Q9184'), ('$1,500 ( or 1,500 of a localized currency )', 'Q8142'), ('12 nautical miles', 'Q93318'), ('the House of Representatives', 'Q665693'), ('Lovers', 'Q6692423'), ('1982', 'Q2436'), ('2002', 'Q1987'), ('twice with twins', 'Q20645861'), ('White', 'Q3499256'), ('Massachusetts', 'Q771'), ('1943', 'Q18623'), ('249', 'Q32624'), ('Erin Brockovich', 'Q232019'), ('Freddie Highmore', 'Q296887'), ('Roy Dotrice', 'Q929933'), ('Coffee liqueur', 'Q6625475'), ('Completed in 1912', 'Q2077'), ('Mumbai Indians', 'Q1195237'), ('Geoff Cameron', 'Q977296'), ('Vito Corleone', 'Q485724'), ('231', 'Q1043481'), ('1792', 'Q7805'), ('Newton', 'Q935'), ('Kentucky Derby', 'Q1141795'), ('Joan Cusack', 'Q16249404'), ('Mao Zedong', 'Q5816'), ('Jill Hennessy', 'Q237925'), ('John Mayer', 'Q215215'), ('2005', 'Q520673'), ('Jaslene Gonzalez', 'Q1775315'), ('Kathy Kinney', 'Q272976'), ('Kochi', 'Q1800'), ('Devon Bostick', 'Q552896'), ('Edwin McCain', 'Q1294820'), ('20 different themed series', 'Q196600'), ('United States (', 'Q30'), ('the dead', 'Q4'), ('James Corden', 'Q767499'), ('Pinewood Studios', 'Q746628'), ('Joseph Fiennes', 'Q223790'), ('Drew Seeley', 'Q314638'), ('1971', 'Q2475'), ('Super Bowl LI', 'Q7642194'), ('Orlando Bloom', 'Q44467'), ('Christina Milian', 'Q230501'), ('Lex Ishimoto', 'Q1050437'), ('Mexico', 'Q96'), ('The 5th Wave', 'Q17436508'), ('Deez Nups', 'Q7069697'), ('1970s', 'Q35014'), ('Nancy Sinatra', 'Q40912'), ('Salton Sea , California', 'Q99'), ('9 episodes', 'Q1983062'), ('1975', 'Q2479'), ('1843', 'Q7629'), ('1949', 'Q5188'), ('Brian Hoyer', 'Q912370'), ('Jake', 'Q20965633'), ('George Harrison', 'Q2643'), ('Gretchen', 'Q3116539'), ('mutual', 'Q3034218'), ('W. Thomas Molloy', 'Q7792507'), ('Afghanistan', 'Q889'), ('French', 'Q121842'), ('13 June 1990', 'Q2064'), ('Randy Meisner', 'Q1356665'), ('Gavin Newsom', 'Q461391'), ('the early 13th century', 'Q7049'), ('1908', 'Q2056'), ('Gary Anderson', 'Q543548'), ('Indigenous peoples', 'Q2472587'), ('Johnny Nash', 'Q49735'), ('Muttiah Muralitharan', 'Q379709'), ('Micucci', 'Q522856'), ('Jerry Bock', 'Q687737'), ('Alexa Vega', 'Q152555'), ('Chadwick Boseman', 'Q4947233'), ('2016', 'Q25245'), ('Seoul', 'Q8684'), ('Edward Norton', 'Q125904'), ('Katy Perry', 'Q42493'), ('Chicago', 'Q1297'), ('the Speaker', 'Q570'), ('Manchester United', 'Q18656'), ('Chylomicrons', 'Q423126'), ('in ice caps', 'Q878077'), ('Tom Drake', 'Q2422025'), ('LaWanda Page', 'Q2102713'), ('southern California', 'Q844837'), ('every four years', 'Q19919016'), ('Jolene Blalock', 'Q881328'), ('Padmé Amidala', 'Q51789'), ('Kevin Kline', 'Q105817'), ('The Wailers', 'Q2525354'), ('Sudas', 'Q2562325'), ('Joey Dunlop', 'Q1266156'), ('2 July 1976', 'Q2480'), ('317', 'Q32584'), ('Ingrid Bergman', 'Q43247'), ('Chris Farlowe', 'Q1077211'), ('18 November 2011', 'Q1994'), ('Eric Allan Kramer', 'Q922264'), ('Teresa Palmer', 'Q234516'), ('Stephen Curry', 'Q352159'), ('Hero Beauregard Fiennes Tiffin', 'Q162244'), ('Oakland Raiders', 'Q324523'), ('Kevin Costner', 'Q11930'), ('Donkey', 'Q19707'), ('Herbert Hoover', 'Q35236'), ('Kiara Barnes', 'Q5448865'), ('Lou Johnson', 'Q6685563'), ('Piyush Goyal', 'Q7199798'), ('Toby Keith', 'Q559819'), ('1979', 'Q2484'), ('stapedectomy', 'Q615857'), ('John William DiMaggio', 'Q313266'), ('Merry Clayton', 'Q927181'), (\"John O'Banion\", 'Q14754859'), ('Wendy Wintersteen', 'Q42558367'), ('Tenochtitlan', 'Q13695'), ('Middle Island', 'Q189'), ('Oklahoma City', 'Q34863'), ('Sigrid Thornton', 'Q3378602'), ('June 22 , 2018', 'Q25291'), ('Sidgwick & Jackson', 'Q2713022'), ('George H.W. Bush', 'Q23505'), ('Zihuatanejo', 'Q202831'), ('Pennsylvania', 'Q1400'), ('the Nilgiri tahr', 'Q3130200'), ('Billy Redden', 'Q4913218'), ('the first season finale', 'Q444353'), ('June 30 , 2008', 'Q2004'), ('India', 'Q668'), ('Christine Taylor', 'Q233022'), ('Neha Mehta', 'Q16732433'), ('Finance bill', 'Q271855'), ('Paloma Kwiatkowski', 'Q10343898'), ('Octono , Wisconsin', 'Q1537'), ('Ivan L. Moody', 'Q2409128'), ('convection', 'Q160329'), ('Matt Prater', 'Q264752'), ('2010', 'Q1995'), ('Power 105.1', 'Q7957424'), ('1954', 'Q18581'), ('Chadwick Boseman', 'Q4947233'), ('13 March 2018', 'Q25291'), ('four', 'Q202'), ('Mount Olympus', 'Q80344'), ('Plant hormones', 'Q192949'), ('Badfinger', 'Q798993'), ('2016', 'Q25245'), ('the Pendleton Act', 'Q421829'), ('24 episodes', 'Q1983062'), ('Grace VanderWaal', 'Q26897673'), ('Paul Adelstein', 'Q311084'), ('the Toronto Argonauts', 'Q142349'), ('Bhumanyu', 'Q12477754'), ('the ghost pepper', 'Q426850'), ('the spine', 'Q482853'), ('Big Boy', 'Q1393864'), ('improve visualization', 'Q21255975'), ('Daisy Ridley', 'Q16738674'), ('October 2014', 'Q1999'), ('Pakistan', 'Q843'), ('Theresa May', 'Q264766'), ('Local government', 'Q7188'), ('300 m ( 980 ft )', 'Q2402434'), ('1977', 'Q2481'), ('James S. Levine', 'Q2013030'), ('12 June 2018', 'Q25291'), ('Tracy McConnell', 'Q15362106'), ('Mark', 'Q107388'), ('England', 'Q21'), ('45,119 at the 2010 census', 'Q523716'), ('Oregon', 'Q824'), ('North Dakota', 'Q714326'), ('on 25 June 1950', 'Q18597'), ('pathologist', 'Q7208'), ('Christopher Paul Curtis', 'Q5113035'), ('two', 'Q200'), ('Warner Bros.', 'Q126399'), ('1871', 'Q7746'), ('Jensen Ackles', 'Q193513'), ('Molly Parker', 'Q435312'), ('James Corden', 'Q767499'), ('Erin Krakow', 'Q17126711'), ('30 ° 30 ′ N 189 ° 48 ′ W \\ufeff / \\ufeff 30.5 ° N 189.8 °', 'Q33053'), ('Karen Newman', 'Q6369917'), ('The Alps', 'Q1286'), ('equatorial climate', 'Q7937'), ('2016', 'Q25245'), ('the President', 'Q61061'), ('spots', 'Q82545'), ('2018', 'Q25291'), ('Elton John', 'Q2808'), ('four', 'Q202'), ('Executive branch', 'Q35798'), ('Ray Noble', 'Q953019'), ('1861', 'Q7693'), ('Vivien Leigh', 'Q129429'), ('Chicago Stadium', 'Q2703852'), ('National Football Conference', 'Q18504'), ('Loretta Devine', 'Q257271'), ('Kerosene', 'Q76904'), ('7 October 2001', 'Q1988'), ('114 minutes', 'Q7727'), ('The packaging', 'Q207822'), ('abducted', 'Q7712113'), ('George Herbert Mead', 'Q295978'), ('New Zealand', 'Q664'), ('10 December 1948', 'Q3042479'), ('Bad Company', 'Q4830453'), ('CBS Reports', 'Q5009267'), ('Journey Church in Franklin', 'Q26258328'), ('1990', 'Q2064'), ('Australia', 'Q408'), ('Hawaii', 'Q782'), ('the full committee', 'Q865588'), ('Javier Colon', 'Q525253'), ('Gateway Arch', 'Q2027162'), ('1993', 'Q2065'), ('England', 'Q21'), ('Great Britain', 'Q145'), ('Raphael Ravenscroft', 'Q968645'), ('2017 - 01 - 03', 'Q25290'), ('Robert Wilfort', 'Q3436554'), ('during fiscal year 2001', 'Q1988'), ('Dev Patel', 'Q245075'), ('2006', 'Q2021'), ('E-commerce', 'Q484847'), ('the state of New York', 'Q60'), ('Dennis Quaid', 'Q200768'), ('Isaac Newton', 'Q935'), ('1894', 'Q7843'), ('1918', 'Q2094'), ('Greenwich', 'Q179385'), ('Brian Dunkleman', 'Q618908'), ('New York Yankees', 'Q213417'), ('Portugal', 'Q45'), ('Hillary Clinton', 'Q6294'), ('2004', 'Q2014'), ('1686', 'Q7664'), ('14 November 2014', 'Q1999'), ('1858', 'Q7684'), ('John 5 : 1 -- 4', 'Q6217513'), ('Theresa May', 'Q264766'), ('Jim Broadbent', 'Q185079'), ('Nawaz Sharif', 'Q134068'), ('Selena Gomez', 'Q83287'), ('New Jersey', 'Q1408'), ('the batter is out', 'Q489322'), ('Surat', 'Q4629'), ('Leonard Frey', 'Q303715'), ('Peter Lurye', 'Q7175542'), ('Wham !', 'Q30622109'), ('Vice President ,', 'Q42178'), ('Tina Cole', 'Q212772'), ('Southern Baptist', 'Q1351880'), ('six', 'Q23488'), ('John Mathai', 'Q6247132'), ('Charles Augustus Lindbergh', 'Q1618'), ('Michael Taiwo Akinkunmi', 'Q4927524'), ('the monarchy', 'Q7269'), ('The Gap Band ,', 'Q2882257'), ('18 June 1815', 'Q6948'), ('1985', 'Q2431'), ('Tony', 'Q700717'), ('1988', 'Q2426'), ('Hi - yo , Silver ! Away !', 'Q3306907'), ('Washington Nationals', 'Q825838'), ('Margaret Dutton', 'Q229159'), ('Joshua Slocum', 'Q505923'), ('burger', 'Q6663'), ('Cytopathic effect', 'Q2995644'), ('2018', 'Q25291'), ('Eduard Buchner', 'Q43917'), ('Marc Cohn', 'Q76774'), ('three - quarters of the states', 'Q201'), ('Richard Deacon', 'Q2345308'), ('oxygen', 'Q5203615'), ('1997', 'Q2088'), ('Cynthia Watros', 'Q230109'), ('Palais de Danse', 'Q3208128'), ('Jordan Rodrigues', 'Q504175'), ('Kareem Abdul - Jabbar', 'Q700685'), ('1963', 'Q2755'), ('Neutral aluminium triacetate', 'Q27861942'), ('1924', 'Q2173'), ('New Orleans', 'Q34404'), ('Westgate Resorts', 'Q875157'), ('Ethnocentrism', 'Q189049'), ('1958', 'Q5253'), ('2019', 'Q25274'), ('United States', 'Q30'), ('Boris Karloff', 'Q203219'), ('Charles', 'Q2958359'), ('Mercy', 'Q16951578'), ('Junior Walker', 'Q1710284'), ('On June 29 , 2007', 'Q2024'), ('Solomon Dalong', 'Q37085'), ('Gale Garnett', 'Q1281196'), ('Bombay', 'Q1156'), ('12 December 1911', 'Q5248928'), ('Jack McBrayer', 'Q560896'), ('Sinise', 'Q180272'), ('five', 'Q203'), ('Thrips', 'Q185628'), ('Mark Wahlberg', 'Q164119'), ('Tamara Drasin', 'Q7680782'), ('the cytoplasm', 'Q79899'), (\"children 's novel\", 'Q7569'), ('chemical reactions', 'Q36534'), ('Tony Mortimer', 'Q1269300'), ('2008', 'Q2004'), ('Vanessa Ray', 'Q3554552'), ('eleven', 'Q37136'), ('31 May 2009', 'Q1996'), ('Scott Reeves', 'Q3476296'), ('Aragog', 'Q177439'), ('Benny Andersson', 'Q214582'), ('1984', 'Q208460'), ('Labrinth', 'Q48959'), ('William Thornton', 'Q1347934'), ('Joseph Story', 'Q1368374'), ('Massachusetts', 'Q771'), ('Magnet wire', 'Q320765'), ('Agriculture', 'Q11451'), ('Real Madrid', 'Q2807'), ('Roger Delgado', 'Q560067'), ('2,403 Americans', 'Q846570'), ('Maureen McGovern', 'Q273216'), ('Skip Marley', 'Q21621948'), ('Lou Ferrigno', 'Q313306'), ('tea table', 'Q277521'), ('1966', 'Q2649'), ('1996', 'Q2070'), ('eight', 'Q23355'), ('Sanaa Lathan', 'Q241783'), ('United States', 'Q30'), ('1988', 'Q2426'), ('duodenum', 'Q134955'), ('Jon Bernthal', 'Q362616'), ('Brooke Burns', 'Q266139'), ('200', 'Q23813'), ('Terry Lester', 'Q921395'), ('2006', 'Q2021'), ('eight', 'Q23355'), ('2018', 'Q25291'), ('season nine', 'Q19108'), ('Naomi Osaka', 'Q17466583'), ('Jeremy Irons', 'Q171745'), ('Twisted Sister', 'Q191808'), ('enrolled voters', 'Q189760'), ('April 2018', 'Q25291'), ('Brian Moser', 'Q2629528'), ('Mahendra Singh Dhoni', 'Q2289233'), ('Julie Gibson', 'Q210278'), ('Sales', 'Q194189'), ('the US Treasury Department', 'Q10756188'), ('PortMiami', 'Q75646'), ('king', 'Q116'), ('1973', 'Q2477'), ('Rocky Mountains', 'Q8502'), ('Kyle Eastwood', 'Q976575'), ('James Earl Carter Jr.', 'Q23685'), ('The Last Jedi', 'Q18486021'), ('Michael Rosen', 'Q1929063'), ('Ronda Rousey', 'Q242201'), ('109 ° F / 42 ° C', 'Q6811947'), ('26 March', 'Q657449'), ('1990', 'Q2064'), ('Mark Wahlberg', 'Q164119'), ('Paul Leka', 'Q2060945'), ('Sweden', 'Q34'), ('in Windows ME', 'Q484892'), ('Rudolf Virchow', 'Q7933675'), ('the third Sunday of June', 'Q132'), ('1907', 'Q2048'), ('Durango', 'Q79918'), ('1621', 'Q6812'), ('Brussels', 'Q240'), ('the cheetah', 'Q23907'), ('Eileen Davidson', 'Q6501552'), ('matrilineal', 'Q1136773'), ('Kaziranga National Park', 'Q192764'), ('14 August 1947', 'Q2858038'), ('middle class', 'Q217594'), ('Paul Lynde', 'Q1972958'), ('Johnny Depp', 'Q37175'), ('Mahendra Singh Dhoni ( Ind )', 'Q2289233'), ('a boy', 'Q3010'), ('1909', 'Q2057'), ('Ixion', 'Q271891'), ('endocytosis', 'Q189814'), ('26 March 2006', 'Q2021'), ('Tampa Bay Buccaneers', 'Q320476'), ('Johann Herbart', 'Q76685'), ('2008', 'Q2004'), ('U.S. states', 'Q35657'), (\"the `` achievements of women everywhere ''\", 'Q3793098'), ('Burgess Meredith', 'Q6818913'), ('Robert Hooke', 'Q46830'), ('2015', 'Q2002'), ('Jorma Taccone', 'Q545634'), ('Super Bowl LI', 'Q7642194'), ('Hertfordshire', 'Q3410'), ('engineer', 'Q128124'), ('the betrothed', 'Q3791182'), ('The ends of epiphyses', 'Q738822'), ('4 - year - old son , Conor', 'Q616997'), ('1921', 'Q2162'), ('Jane Morgan', 'Q274704'), ('Bailee Madison', 'Q241749'), ('Gordie Howe', 'Q2046310'), ('East Texas', 'Q1439'), ('Ethan Suplee', 'Q314610'), ('Richard Webber', 'Q2718264'), ('mutt', 'Q38945'), ('Pure Prairie League', 'Q7237924'), ('the Chalukya empire', 'Q1395011'), ('Notre Dame', 'Q901407'), ('Wendy Rosenberg Makkena', 'Q17478642'), ('The Conch Republic', 'Q7270'), ('New York City', 'Q60'), ('1474', 'Q6600'), ('Cambodia', 'Q424'), ('May 1990', 'Q2064'), ('the Supremes', 'Q218837'), ('Troian Bellisario', 'Q4461'), ('before Christ', 'Q302'), ('Capshaw', 'Q1035033'), ('Arijit Singh', 'Q2289233'), ('Dewayne Blackwell', 'Q5268106'), ('Blair Waldorf', 'Q1785006'), ('Haryana', 'Q1174'), ('Gyros ( γύρος )', 'Q681596'), ('periclinal cellular division', 'Q190147'), ('Day 59', 'Q52643'), ('Tim Franko', 'Q3752050'), ('Ralph Fiennes', 'Q28493'), ('Denmark', 'Q35'), ('Juno Temple', 'Q234434'), ('John Lyly', 'Q261627'), ('Telmo Zarra', 'Q312408'), ('Maddie Fitzpatrick', 'Q5455667'), ('plant pigments', 'Q910979'), ('2016 -- 17', 'Q25245'), ('continental transform fault', 'Q174769'), ('Christiaan Neethling Barnard', 'Q167733'), ('birds', 'Q5113'), ('an itchy rash', 'Q653197'), ('Pulimurugan', 'Q20814704'), ('Jeremy Irons', 'Q171745'), ('Anil Kumar Jha', 'Q477265'), ('Hugh Dillon', 'Q377620'), ('third party', 'Q200538'), ('Hồ Chí Minh', 'Q6864870'), ('five', 'Q203'), ('1946', 'Q18610'), ('Iván Rodríguez', 'Q706908'), ('Mark McCracken', 'Q6768787'), ('Reagan Gomez - Preston', 'Q556868'), ('Rohit Roy', 'Q13120775'), ('Buzz Aldrin', 'Q409054'), ('In the midst of a wartime evacuation', 'Q606332'), ('New Mexico', 'Q1522'), ('September 1987', 'Q2429'), ('Framlingham Castle', 'Q2524183'), ('smoking', 'Q662860'), ('Balrogs', 'Q716204'), ('1967', 'Q2648'), ('c. 2100 BC', 'Q205487'), ('1988', 'Q2426'), ('Jaime Camil', 'Q1278135'), ('MGM Resorts International', 'Q568532'), ('The Capris', 'Q1034971'), ('Evangeline Lilly', 'Q160392'), ('1858', 'Q7684'), ('The Union', 'Q178790'), ('June 14 , 2002', 'Q1987'), ('Rose Byrne', 'Q228717'), ('Tanzania', 'Q924'), ('Florida', 'Q812'), ('Epping , Essex', 'Q23240'), ('Thomas Jefferson', 'Q11812'), ('Brad Rutter', 'Q4954227'), ('Gemma', 'Q19689422'), ('in 1913', 'Q2080'), ('Guadeloupe', 'Q17012'), ('cha yen', 'Q8146'), ('2,918 metres ( 9,573 ft )', 'Q11573'), ('the grey seal', 'Q27370'), ('Rey Valera', 'Q5640763'), ('Franklin Van Valkenburgh', 'Q7913713'), ('April 29th , 2018', 'Q25291'), ('Norm Macdonald', 'Q1371229'), ('1954', 'Q18581'), ('Pure Country', 'Q83440'), ('Gregg Sulkin', 'Q7636347'), ('Meghan Ory', 'Q281991'), ('Callie Torres', 'Q963110'), ('370', 'Q1586139'), ('Persia', 'Q794'), ('2002', 'Q1987'), ('negotiable instrument', 'Q34379'), ('Empedocles', 'Q83375'), ('Ian McDiarmid', 'Q315495'), ('American League', 'Q465469'), ('Roger Federer', 'Q1426'), ('President Roosevelt', 'Q8007'), ('outer core', 'Q839647'), ('Henry Miller', 'Q187765'), ('Elihu Thomson', 'Q2037671'), ('five', 'Q203'), ('Baltimore Ravens', 'Q276539'), ('four', 'Q202'), ('Kamal Haasan', 'Q381477'), ('Germany', 'Q183'), ('full band', 'Q2882257'), ('five', 'Q203'), ('France', 'Q142'), ('Emmitt Smith', 'Q1639825'), ('2000', 'Q1985'), ('the Vice President', 'Q42178'), ('Exodus', 'Q14907657'), ('George Coe', 'Q3760469'), ('1515', 'Q6208'), ('Dina Pugliese', 'Q5277863'), ('2001', 'Q1988'), ('8 -- 15 seconds', 'Q11574'), ('Bruce Rauner', 'Q15972549'), ('30 December 2016', 'Q25245'), ('1972', 'Q2476'), ('the highest possible', 'Q6656112'), ('local law enforcement', 'Q44554'), ('The South Bronx', 'Q18426'), ('practical conservation for posterity', 'Q126692'), ('Billy Paul', 'Q863212'), ('1968', 'Q2644'), ('Huell Babineaux', 'Q2585983'), ('Anthony Perkins', 'Q193146'), ('Abraham Lincoln', 'Q91'), ('the Irish folk band The Beasley Brothers', 'Q2882257'), ('John Travolta', 'Q80938'), ('haversian canal', 'Q1591551'), ('late 6th century BCE', 'Q25296'), ('beat poet', 'Q49757'), ('Seattle', 'Q5083'), ('Bob Marley', 'Q409'), ('Roger Federer', 'Q1426'), ('Fifty Shades Darker', 'Q2195511'), ('Arvind Saxena', 'Q4802470'), ('The Speaker', 'Q570'), ('Laurel , Mississippi', 'Q1497'), ('April 1 , 2007', 'Q2024'), ('Juan Manuel Santos', 'Q57311'), ('2016', 'Q25245'), (\"Leon `` Kida '' Burns\", 'Q3085442'), ('Real Madrid', 'Q2807'), ('Croatia', 'Q224'), ('1803', 'Q6887'), ('Martina Navratilova', 'Q54545'), ('1932', 'Q18743'), ('Steve Karmen', 'Q7612985'), ('Alabama Crimson Tide', 'Q971195'), ('Keith Urban', 'Q2529400'), ('the euro', 'Q4916'), ('Quail Hollow Club', 'Q7268497'), ('Fascist Party', 'Q139596'), ('John Roberts', 'Q11153'), ('Bruce Channel', 'Q328657'), ('Mahathir Mohamad', 'Q181383'), ('Vancouver', 'Q24639'), ('at the National Zoo', 'Q43501'), ('World War II', 'Q362'), ('1990', 'Q2064'), ('Alexander', 'Q8409'), ('Sony', 'Q41187'), ('18 May 1974', 'Q2478'), ('Secretary of State', 'Q5155576'), ('Leonid Brezhnev', 'Q765165'), ('2008', 'Q2004'), ('14 June to 15 July', 'Q121'), ('June 12 , 2017', 'Q25290'), ('Harry Nilsson', 'Q281034'), ('2013', 'Q1998'), ('Jenna Ortega', 'Q21738166'), ('Charles Darwin', 'Q1035'), ('Exodus', 'Q14907657'), ('2011', 'Q1994'), ('Lucy Hale', 'Q229940'), ('the nobility', 'Q134737'), ('Alexandra Palace', 'Q254650'), ('bicanard biplane', 'Q223818'), ('18 March 1996', 'Q2070'), ('Uncle Sam', 'Q3519761'), ('Sandra', 'Q18669348'), ('Marvin Gaye', 'Q8062565'), ('Krishna', 'Q42891'), ('The Wailers', 'Q2525354'), ('China', 'Q148'), ('Bill Murray', 'Q29250'), ('Johnny Depp', 'Q37175'), ('May 2013', 'Q1998'), ('Robert Baratheon', 'Q13634885'), ('William Theakston', 'Q129987'), ('1980', 'Q2439'), ('best - of - seven', 'Q23350'), ('1996', 'Q2070'), ('Emma Stone', 'Q147077'), ('1977', 'Q2481'), ('Jennifer Jones', 'Q273969'), ('Same Old Lang Syne', 'Q1432029'), ('London', 'Q84'), ('$11.18 million per taxpayer', 'Q38526'), ('Genesis 12 -- 17', 'Q9184'), ('legs', 'Q133105'), ('Christopher Reeve', 'Q174311'), ('Grace Slick', 'Q229881'), ('one million bytes', 'Q38526'), ('Wales', 'Q25'), ('1980', 'Q2439'), ('Manchester City', 'Q50602'), ('braising steak', 'Q1365996'), ('Confederate victory', 'Q50000'), ('David Hood', 'Q278939'), ('Laurence Olivier', 'Q55245'), ('Lenny Kravitz', 'Q180224'), ('Berlin', 'Q64'), ('The Nicene Creed', 'Q207937'), ('November', 'Q9937'), ('Bruce Dickinson', 'Q190151'), ('2005', 'Q520673'), (\"`` Picture ''\", 'Q478798'), ('Storm Huntley', 'Q81054'), ('Tottenham Hotspur', 'Q18741'), ('Oathkeeper', 'Q16735688'), ('supergroup', 'Q1684445'), ('Bill Belichick', 'Q720027'), ('electromagnetic radiation', 'Q18335'), ('17 January 1981', 'Q6155723'), ('the United States Senate', 'Q66096'), ('season seven', 'Q23350'), ('Kate', 'Q696128'), ('Malcolm Gladwell', 'Q318429'), ('Talia Shire', 'Q662296'), ('Jack Gleeson', 'Q777260'), ('carbon - 12', 'Q623'), ('Lexie Grey', 'Q2467529'), ('connector', 'Q2119531'), ('1986', 'Q2430'), ('Barry Bonds', 'Q314712'), ('a brain', 'Q562892'), ('empty set', 'Q226183'), ('South Africa', 'Q15'), ('Clayton Kershaw', 'Q520665'), ('the Abbott Government', 'Q16257464'), ('microfilaments', 'Q329638'), ('Alaska Thunderfuck 5000', 'Q16029552'), ('Arizona', 'Q816'), ('December 1972', 'Q5248947'), ('2019', 'Q25274'), ('Acts of Parliament', 'Q35749'), ('Bruce Springsteen', 'Q1225'), ('1976', 'Q2480'), ('China', 'Q148'), ('1997', 'Q2088'), ('Andrew Walter Reid', 'Q2622812'), ('Roger Moore', 'Q134333'), ('11 December 2001', 'Q1988'), ('2002', 'Q1987'), ('joint resolution', 'Q7670463'), ('June 16 , 2017', 'Q25290'), ('India', 'Q668'), ('Sylva , North Carolina', 'Q192334'), ('Ranchi Rays', 'Q18712500'), ('twins Ella Hiller and Jaden Hiller', 'Q271406'), ('isothermal process', 'Q486921'), ('Glenn Frey', 'Q131474'), ('Monsters', 'Q300666'), ('460', 'Q30834'), ('1959', 'Q5302'), ('Neil Gorsuch', 'Q15488345'), ('Karma', 'Q132196'), ('Lauren', 'Q2274625'), ('Yuri Alekseyevich Gagarin', 'Q2669157'), ('bank', 'Q848507'), ('1987', 'Q2429'), ('1987', 'Q2429'), ('early 1933', 'Q18726'), ('April 18 , 2018', 'Q25291'), ('The City of Light ( La Ville Lumière )', 'Q90'), ('Pert Kelton', 'Q7170789'), ('15 December 2013', 'Q1998'), ('15 August', 'Q122'), ('Thomas Andrew Felton', 'Q105682'), ('Gryffindor', 'Q174097'), ('Pittsburgh Steelers', 'Q191477'), ('Robin Moore', 'Q921925'), ('The Bahamas', 'Q778'), ('Terry McMillan', 'Q535856'), ('Canada', 'Q16'), ('Louisiana', 'Q1588'), ('Urban Meyer', 'Q1516578'), ('David Frizzell', 'Q304436'), ('Jamie Walters', 'Q959159'), ('France', 'Q142'), ('776 BC', 'Q493863'), ('Leonard', 'Q762'), ('Michael Crawford', 'Q656035'), ('Transformation / The End', 'Q3222702'), ('Cory Doran', 'Q5173573'), ('Emma G.M. Chambers', 'Q40061'), ('Gino Vannelli', 'Q1345565'), ('Dan Stevens', 'Q657222'), ('Germany', 'Q183'), ('Jason Weaver', 'Q3163012'), ('Joe Chill', 'Q2487202'), ('slightly less than 50 %', 'Q28113351'), ('Tyler Perry', 'Q686301'), ('307', 'Q33724'), ('biodegradable waste', 'Q864214'), ('1982', 'Q2436'), ('the endocrine system', 'Q178706'), ('Zachary Levi', 'Q139638'), ('Julia Stiles', 'Q210120'), ('Heart of Gold', 'Q20669022'), ('John Derry', 'Q6229251'), ('2016', 'Q25245'), ('the shareholders', 'Q381136'), ('Rangers', 'Q19597'), (\"`` The Good , the Bad and the Ugly ''\", 'Q28877'), ('Norman', 'Q3182387'), ('Drake', 'Q5305629'), ('1997', 'Q2088'), ('Samoa', 'Q683'), ('2017', 'Q25290'), ('Dan Stevens', 'Q657222'), ('1990', 'Q2064'), ('Jennifer Landon', 'Q1065745'), ('British Empire', 'Q8680'), ('The Iraq War', 'Q37643'), ('939', 'Q23422'), ('Ivonne Coll', 'Q5923349'), ('Florence Nightingale', 'Q37103'), ('Bailee Madison', 'Q241749'), ('Osei Tutu Opemsoo', 'Q712390'), (\"Uzoamaka Nwanneka `` Uzo '' Aduba\", 'Q7905095'), ('1940', 'Q18633'), ('Starship', 'Q2003852'), ('Franco Nero', 'Q311716'), ('22 October 1979', 'Q2484'), ('Davies Chama', 'Q27063175'), ('Don Henley', 'Q5714710'), ('the Senate', 'Q66096'), ('Suraj Jagan', 'Q6122108'), ('1931', 'Q18782'), ('1783', 'Q7745'), ('Stephanie Mills', 'Q457850'), ('2001', 'Q1988'), ('The Eisenhower Tunnel', 'Q1312959'), ('Joe Walsh', 'Q354033'), ('1980', 'Q2439'), ('the mouth', 'Q1233637'), ('Ramin Djawadi', 'Q57577'), ('1945', 'Q5240'), ('Bear Mountain', 'Q11788'), ('Paris', 'Q90'), ('Victor', 'Q9963'), ('June 1979', 'Q2484'), ('Stephanie', 'Q241201'), ('Judiciary branch', 'Q105985'), ('July 2017', 'Q25290'), ('the Evil Queen', 'Q252044'), ('1993', 'Q2065'), ('1,454 feet ( 443.2 m )', 'Q3710'), ('Joel Edgerton', 'Q381768'), ('TBA', 'Q285790'), ('Guadeloupe', 'Q17012'), ('Sridevi', 'Q270691'), ('Sanjana Hiteshi', 'Q7418576'), ('on 9 February 2018', 'Q25291'), ('Gareth Barry', 'Q1042892'), ('324', 'Q31407'), ('Lincoln', 'Q91'), ('Oscar Robertson', 'Q17717'), ('Colombia', 'Q739'), ('Ann Peebles', 'Q463744'), ('Chile', 'Q298'), ('Kylie Minogue', 'Q11998'), ('Team Europe', 'Q46'), ('two', 'Q200'), ('unity', 'Q7893744'), ('John Hartford', 'Q704700'), ('Indirect rule', 'Q211364'), ('November 2000', 'Q1985'), ('James Orthwein', 'Q6140663'), ('Timon and Pumbaa', 'Q1073705'), ('Mandy Moore', 'Q187832'), ('Billy Redden', 'Q4913218'), ('San Diego Chargers', 'Q5200315'), ('between 319 and 333 AD', 'Q32007'), ('121', 'Q4721828'), ('Deloitte', 'Q491748'), ('1939', 'Q18639'), ('About 97.0 %', 'Q5727902'), ('Jim Keltner', 'Q453565'), ('the Philadelphia area', 'Q1925894'), ('1986', 'Q2430'), ('1931', 'Q18782'), ('14 November 2001', 'Q1988'), ('1955', 'Q18577'), ('Kilkenny', 'Q109092'), ('2009', 'Q1996'), ('U.S. state', 'Q35657'), ('Ashley Johnson', 'Q267359'), ('Lynn Loud , Sr.', 'Q20642692'), ('Jemaine Clement', 'Q42887'), ('1943', 'Q18623'), ('Ainsley Earhardt', 'Q4697481'), ('Jim Duggan', 'Q164260'), ('endothermic', 'Q203522'), ('the guardians of animal life', 'Q104021'), ('John Mikel Obi', 'Q166984'), ('Radhakrishnan', 'Q156349'), ('Sri Gupta', 'Q4664626'), ('Lyle Waggoner', 'Q6707971'), ('Yasmine Al Massri', 'Q4539302'), ('three', 'Q201'), ('1999', 'Q2091'), ('Father Michael J. McGivney', 'Q4927524'), ('five', 'Q203'), ('296', 'Q32139'), ('Eric Carmen', 'Q437551'), ('Dottie Rambo', 'Q1251269'), ('Naima Mora', 'Q242700'), (\"`` Sparks Fly ''\", 'Q25312'), ('Mahakali Zone', 'Q9178'), ('Steven Spielberg', 'Q8877'), ('1971', 'Q2475'), ('at the Easter Vigil', 'Q1238731'), ('closed', 'Q12731'), ('2015', 'Q2002'), ('Vancouver', 'Q24639'), ('Pete Maravich', 'Q316183'), ('Pakistan International Airlines', 'Q204887'), ('Pacey', 'Q1652734'), ('Amy Madigan', 'Q45304'), ('Nick Robinson', 'Q1384543'), ('Thespis', 'Q117176'), ('2017', 'Q25290'), ('Easton Corbin', 'Q18684831'), (\"Colin O'Meara\", 'Q5145467'), ('England', 'Q21'), ('English surname', 'Q101352'), ('Leo Tolstoy', 'Q7243'), ('Murder House', 'Q20502'), ('Peyton Randolph', 'Q7291803'), ('2019', 'Q25274'), ('Chandler Jones', 'Q941408'), ('Lorenz Hart', 'Q725828'), ('Nyle DiMarco', 'Q21475257'), ('Hungary', 'Q28'), ('2007 -- 08', 'Q2024'), ('2022', 'Q49625'), ('2019', 'Q25274'), ('the ramp', 'Q573970'), ('more than 4,000', 'Q2231030'), ('Bab - el - Mandeb', 'Q313301'), ('frenulum', 'Q1772935'), ('Puritans', 'Q137073'), ('Barry Bostwick', 'Q809019'), ('108 - foot ( 33 m )', 'Q24431'), ('Queen Elsa', 'Q15620419'), ('Dance', 'Q1190485'), ('Neelam Sanjiva Reddy', 'Q3530835'), ('the Confederate States Army', 'Q51977'), ('Jeff Hornacek', 'Q555355'), ('Teddy', 'Q33866'), ('New York City', 'Q60'), ('June 4 , 2017', 'Q25290'), ('Neil Diamond', 'Q294531'), ('Lake Superior', 'Q1066'), ('Constitutional law', 'Q11206'), ('1986', 'Q2430'), ('Shanghai', 'Q8686'), ('2011', 'Q1994'), ('Foreigner', 'Q22252048'), ('Wales', 'Q25'), ('1975', 'Q2479'), ('Māori', 'Q6122670'), ('David Reed Bromstad', 'Q41370'), ('Forest Whitaker', 'Q182763'), ('South America', 'Q30'), ('President Johnson', 'Q9640'), ('Saint Bernard of Clairvaux', 'Q188411'), ('Gwyneth Strong', 'Q5623850'), ('Tino Insana', 'Q1775143'), ('Moisture', 'Q217651'), ('Asha Bhosle', 'Q855013'), ('Jason Scheff', 'Q6163429'), ('Idris Elba', 'Q45328'), ('Ramsay Bolton', 'Q19796006'), ('Lisa Madigan', 'Q529140'), ('Vatnajökull National Park', 'Q179734'), (\"`` The Return ''\", 'Q283976'), ('Japan', 'Q17'), ('India', 'Q668'), ('the English Channel', 'Q300351'), ('1954 -- 55', 'Q18581'), ('Two', 'Q200'), ('Brittany Murphy', 'Q168847'), ('Sora', 'Q13284'), ('1988', 'Q2426'), ('Great Britain', 'Q145'), ('Papagiannis , Georgios', 'Q48438'), (\"the mid-season premiere `` What Happened and What 's Going On , ''\", 'Q204854'), ('René Descartes', 'Q9191'), ('Sigrid', 'Q28864768'), ('Piper Chapman', 'Q983999'), ('Elizabeth Hubbard', 'Q280232'), ('Martin Smith', 'Q1395538'), ('İstanbul', 'Q406'), ('1996', 'Q2070'), ('Charmian Carr', 'Q3281323'), ('Andy Biggs', 'Q16199304'), ('Julie Tice - Bubolz', 'Q25126010'), ('Sam', 'Q3519761'), ('Tetris', 'Q71910'), ('the stomach', 'Q1029907'), ('Indianapolis Colts', 'Q193753'), ('John C. Reilly', 'Q223110'), ('1939', 'Q18639'), ('Leslie Jones', 'Q16005825'), ('Real Madrid', 'Q2807'), ('7 November 1917', 'Q3345407'), ('Great Britain', 'Q145'), ('hectometre', 'Q844338'), ('digital industry', 'Q690079'), ('Hibiscus sabdariffa', 'Q319390'), ('1998', 'Q2089'), ('Pizza Hut', 'Q191615'), ('Lacey Chabert', 'Q1058239'), ('Marty Robbins', 'Q919565'), ('1984', 'Q208460'), ('1776', 'Q7703'), ('February 2009', 'Q1996'), ('22 January 1947', 'Q16644969'), ('Beth', 'Q16726185'), ('explosive', 'Q12870'), ('Rome', 'Q220'), ('United States', 'Q30'), ('Billy Currington', 'Q452441'), ('Simple Plan', 'Q755179'), ('2018', 'Q25291'), ('Melbourne', 'Q3141'), ('virtual currency', 'Q8142'), ('1955', 'Q18577'), ('Lita Kino', 'Q1961602'), ('Tori Kelly', 'Q1631728'), ('Waylon Jennings', 'Q357933'), ('Ruff Mitchell', 'Q502117'), ('Roger Bart', 'Q634684'), ('2007', 'Q2024'), ('2011', 'Q1994'), ('2018', 'Q25291'), ('Newfoundland', 'Q2003'), ('Floyd Mayweather Jr.', 'Q492313'), ('Narendra Modi', 'Q1058'), ('283', 'Q32054'), ('Rachel Louise Carson', 'Q100948'), ('Danny Dog', 'Q324920'), ('lymphatic organs', 'Q712604'), ('1977', 'Q2481'), ('Warlock', 'Q148401'), ('Selena Gomez', 'Q83287'), ('104', 'Q23863'), ('Davidson', 'Q6501552'), (\"`` Whale Whores ''\", 'Q3828561'), ('Christopher Allen Lloyd', 'Q109324'), ('Annie Besant', 'Q464318'), ('Bruce Johnston', 'Q548438'), ('Kings Island', 'Q953752'), ('economic stagnation', 'Q159810'), ('Supreme Court', 'Q11201'), ('Creek', 'Q47521'), ('Elena Gilbert', 'Q531315'), ('Lego', 'Q170484'), ('Chanel Cresswell', 'Q3666124'), ('1963', 'Q2755'), ('Hinduism', 'Q9089'), ('corrosives', 'Q137056'), ('Bill Medley', 'Q862315'), ('Faisalabad', 'Q173985'), ('Garth Jennings', 'Q598683'), ('Kimberly Rhodes', 'Q43048'), ('1974', 'Q2478'), ('Johnny Horton', 'Q1534428'), ('Pingali Venkayya', 'Q1392116'), ('modulation', 'Q170474'), ('Fern Green', 'Q80005'), ('Abraham Lincoln', 'Q91'), ('about 23.4 °', 'Q5727902'), ('Emile Hirsch', 'Q244678'), ('Zac Brown Band', 'Q139154'), ('the Charlie Daniels Band', 'Q551478'), ('Dove Cameron', 'Q13560423'), ('Tracee Ellis Ross', 'Q29913577'), ('Lady Gaga', 'Q19848'), ('Mr. Church', 'Q18703104'), ('26 April 2018', 'Q25291'), ('eight', 'Q23355'), ('New York Yankees', 'Q213417'), ('Carrie Fisher', 'Q331432'), ('Justin Henry', 'Q486443'), ('Topsoil', 'Q1247456'), ('1885', 'Q7821'), ('June 4 , 2017', 'Q25290'), ('incidental voices', 'Q15040678'), ('enzyme inhibitors', 'Q427492'), ('Bing Crosby', 'Q72984'), ('Deb', 'Q642977'), ('three', 'Q201'), ('the Steelers', 'Q1137086'), ('Shawn Mendes', 'Q1427162'), ('Dean Martin', 'Q215359'), ('1500s England', 'Q21'), ('August 2003', 'Q1986'), ('June 1 , 2014', 'Q1999'), ('1893', 'Q7840'), ('Peter Serafinowicz', 'Q723256'), ('substitute', 'Q1778407'), ('New Mexico', 'Q1522'), ('Unlimited two - year terms', 'Q200'), ('Jennifer Holliday', 'Q3417464'), ('1859', 'Q7687'), ('Dublin', 'Q1761'), ('Poodle', 'Q38904'), ('The Black Eyed Peas', 'Q18049200'), ('Bill Champlin', 'Q2761016'), ('winter', 'Q578152'), ('2016', 'Q25245'), ('in the south Pacific', 'Q98'), ('2018', 'Q25291'), ('late 1969', 'Q2485'), ('Denver Broncos', 'Q223507'), ('Ayrshire', 'Q793283'), ('promote environmentalist policies', 'Q3578589'), ('Carrie Underwood', 'Q13583115'), ('The Wonders', 'Q16448753'), ('Larenz Tate', 'Q430682'), ('29 September 2017', 'Q25290'), ('Danny Jacobs', 'Q5220485'), ('June 14 , 2002', 'Q1987'), ('December 23', 'Q2676'), (\"`` House of Heroes ''\", 'Q656786'), ('Ecuador', 'Q736'), ('Red Hood', 'Q264692'), ('June 8 , 2010', 'Q1995'), ('Mahakali River', 'Q2095324'), ('Whitney Houston', 'Q34389'), ('Amanda Bynes', 'Q212002'), ('1952', 'Q5272'), ('geese', 'Q82562'), ('Al Dubin', 'Q2547975'), ('April 1 , 2002', 'Q1987'), ('June 2004', 'Q2014'), ('Josef Bican', 'Q352017'), ('April 16 , 2018', 'Q25291'), ('2013', 'Q1998'), ('Mega Man 2', 'Q23812705'), ('Steven W. Cantrell', 'Q967040'), (\"`` East Bay ''\", 'Q2370943'), ('LaShawn Daniels', 'Q3074919'), ('Dan Stevens', 'Q657222'), ('William Fichtner', 'Q220335'), ('Pusha T', 'Q2329709'), ('pseudo-obstruction motility disorder', 'Q3924862'), ('Jessica DiLaurentis', 'Q2837154'), ('Joe Cocker', 'Q190076'), ('Drew Barrymore', 'Q676094'), ('1935', 'Q18658'), ('Elton Mangoma', 'Q5367868'), ('Jayson Blair', 'Q1815810'), ('on June 13 , 2018', 'Q25291'), ('Two', 'Q200'), ('131 countries', 'Q3401256'), ('Lloyds Bank plc', 'Q848507'), (\"Jalacy `` Screamin ' Jay '' Hawkins\", 'Q9773'), ('Regis Philbin', 'Q463673'), ('E.M. Forster', 'Q1992448'), ('Eric Clapton', 'Q48187'), ('Grisha', 'Q13424387'), ('New York', 'Q60'), ('25 August 2002', 'Q1987'), ('Jack McBrayer', 'Q560896'), ('Railroad workers', 'Q3565868'), ('Rick Springfield', 'Q707446'), ('April 12 , 2013', 'Q1998'), ('Wabash , Indiana', 'Q1415'), ('three', 'Q201'), ('James Comey', 'Q167607'), ('San Diego Padres', 'Q721134'), ('16 December 1995', 'Q2068'), ('Vedic', 'Q36858'), ('Ernest Michaux', 'Q1351389'), ('Queen Elizabeth II', 'Q9682'), ('Mary Quant', 'Q2565440'), ('John Sullivan', 'Q328804'), ('19 June 2018', 'Q25291'), ('Gavin DeGraw', 'Q337722'), ('River', 'Q355304'), ('British', 'Q842438'), ('Rupp Arena', 'Q842965'), ('Jörmungandr', 'Q181227'), ('1993', 'Q2065'), ('2018', 'Q25291'), ('Jhelum City', 'Q121551'), ('blessing', 'Q626510'), ('Magnesium', 'Q660'), ('Daniel Morgan', 'Q2767'), ('1995', 'Q2068'), ('Kelly Monaco', 'Q451861'), ('April 20 , 2018', 'Q25291'), ('John Prine', 'Q520296'), ('2009', 'Q1996'), ('Norway', 'Q20'), ('Georgie Henley', 'Q5714710'), ('Colleen Rose Dewhurst', 'Q12979'), ('Chicago Bears', 'Q205033'), ('seven', 'Q23350'), ('Fred', 'Q815732'), ('15,895 deaths', 'Q4'), ('five', 'Q203'), ('1985', 'Q2431'), ('Rubens Barrichello', 'Q169846'), ('8 October 2017', 'Q25290'), ('John Isner', 'Q53566'), ('Marc Isambard Brunel', 'Q932411'), ('Burgess Meredith', 'Q6818913'), ('June 17 , 1885', 'Q7821'), ('age 12', 'Q17214606'), ('Caroline Islands', 'Q118350'), ('2018', 'Q25291'), ('April 18 , 2008', 'Q2004'), ('Lynn Anderson', 'Q163593'), ('Peloponnesian War', 'Q33745'), ('1979', 'Q2484'), ('The Adventures of Ozzie and Harriet', 'Q1436734'), ('Paul Fireman', 'Q21933991'), ('Darryl', 'Q19824099'), ('Joanne Rogers', 'Q19848'), ('after a minor infringement', 'Q31553'), ('1967', 'Q2648'), ('1980', 'Q2439'), ('United Kingdom', 'Q145'), ('1971', 'Q2475'), ('South Vietnamese army', 'Q51977'), ('Bill Belichick', 'Q720027'), ('Chicago', 'Q1297'), ('Brian Lara', 'Q202877'), ('Portugal', 'Q45'), ('the Zambian national football team', 'Q2736'), ('John Lennon', 'Q1203'), ('equilateral', 'Q157002'), ('Mitchell Commercial', 'Q502117'), ('Karnataka', 'Q1185'), ('before and during the French Revolution', 'Q6534'), ('Harry Styles', 'Q3626966'), ('Nancy Birtwhistle', 'Q21509363'), ('executive order', 'Q1338798'), ('Nhlanhla Nene', 'Q7023365'), ('China', 'Q148'), ('around 3000 years ago', 'Q5727902'), ('20 primary', 'Q7243056'), ('the conductor', 'Q124291'), ('Magic', 'Q1888593'), ('Richard Harris', 'Q106775'), ('Wonder Woman', 'Q338430'), ('prosecutor', 'Q1092499'), ('U.S. Bank Stadium', 'Q7929512'), ('Billy Redden', 'Q4913218'), ('2002', 'Q1987'), ('American Eagle', 'Q2842931'), ('Darius Perkins', 'Q2071244'), ('Sean Connery', 'Q4573'), ('1935', 'Q18658'), ('Angelica Hale', 'Q41187769'), ('Christian Louboutin', 'Q452136'), ('Melonie Daniels', 'Q708907'), (\"`` I have a dream ''\", 'Q1155446'), ('Dmitri Mendeleev', 'Q9106'), ('Sophia Bush', 'Q206916'), ('rabbit', 'Q1723770'), ('Georg Solti', 'Q128085'), ('1969', 'Q2485'), ('Europe', 'Q46'), ('Russia', 'Q159'), ('Chloe', 'Q1075391'), ('Massachusetts', 'Q771'), ('Naruto Uzumaki', 'Q931'), ('Rene Russo', 'Q229612'), ('Mithali Raj', 'Q7286282'), ('1972', 'Q2476'), ('Elizabeth Berkley Lauren', 'Q129831'), ('Richard Petty', 'Q355130'), ('Plutarch Heavensbee', 'Q1412141'), ('Hawthorne James', 'Q2013030'), ('William Henry Harrison', 'Q11869'), ('Affirmed', 'Q2099366'), ('Mariette Hartley', 'Q324923'), ('1 November 1925', 'Q13068478'), ('eleven', 'Q37136'), ('Île - Saint - Croix on Baie François', 'Q43115'), ('England', 'Q21'), ('Les Misérables', 'Q28234'), ('a parliamentary monarchy', 'Q41614'), ('Clara Hughes', 'Q232682'), ('279 BC', 'Q75571'), ('Glenn Frey', 'Q131474'), ('June 22 , 2018', 'Q25291'), ('Alyvia Alyn Lind', 'Q5713870'), ('three', 'Q201'), ('in the United States', 'Q30'), (\"Julie E. `` Tawny '' Kitaen\", 'Q260298'), ('Janice Robinson', 'Q1384543'), ('Aesop', 'Q43423'), ('counterweight trebuchets', 'Q19776'), ('Denver Broncos', 'Q223507'), ('Marsupials', 'Q25336'), ('Louise Glover', 'Q3181600'), ('Stephen Paddock', 'Q41529365'), ('spermatids', 'Q1494188'), ('Trench warfare', 'Q241059'), ('Mel McDaniel', 'Q783896'), ('Don Adams', 'Q1853362'), ('Tim Williams', 'Q49166'), ('South Vietnam', 'Q881'), ('Afghanistan', 'Q889'), ('William A.V. Cecil', 'Q129987'), ('Reba McEntire', 'Q229430'), ('snap pizzicato', 'Q213460'), ('Jon Corzine', 'Q380570'), ('England', 'Q21'), ('Bryan Robson', 'Q296583'), ('1964', 'Q2652'), ('1973', 'Q2477'), ('lungs', 'Q7886'), ('the shareholders', 'Q381136'), ('Treasurer', 'Q713710'), ('Basil Thampi', 'Q27306270'), ('Joe McElderry', 'Q350368'), ('United States', 'Q30'), ('Nadiya Hussain', 'Q21642574'), ('William Thomas Sadler', 'Q152542'), ('Michigan', 'Q1166'), ('three', 'Q201'), ('Desreta Jackson', 'Q2713022'), ('Jacob Elordi', 'Q289957'), ('Jonathan Harrington', 'Q6273345'), ('The proletariat', 'Q132603'), ('Cyril Ramaphosa', 'Q1148669'), ('June 1975', 'Q2479'), ('1759', 'Q7643'), ('1945', 'Q5240'), ('Lionel Messi', 'Q615'), ('Owen Brenman', 'Q16186995'), ('Vancouver', 'Q24639'), ('California', 'Q99'), ('1959', 'Q5302'), ('Harry Chapin', 'Q1586454'), ('2016', 'Q25245'), ('the late 1950s', 'Q36297'), ('Madhubala', 'Q36881'), ('1980s', 'Q34644'), ('Bill Belichick', 'Q720027'), ('Adil Ray', 'Q4682812'), ('June 23 , 2017', 'Q25290'), ('Bo Jackson', 'Q2713022'), ('GMC Yukon XL', 'Q859501'), ('Hemodialysis', 'Q391744'), ('Ed Quinn', 'Q2123241'), ('5 degrees of freedom', 'Q2979'), ('Trisha Yearwood', 'Q464251'), ('1933', 'Q18726'), ('Duncan Fletcher', 'Q3520574'), ('two - year', 'Q200'), ('oxygen', 'Q5203615'), ('169', 'Q30280'), ('Cycloaddition', 'Q898648'), ('William James Remar', 'Q441913'), ('Babe Ruth', 'Q213812'), ('16 October 1984', 'Q2432'), ('Fred Willard', 'Q449521'), ('April 17 , 1982', 'Q2436'), ('The Star Wars', 'Q462'), ('1921', 'Q2162'), ('classical music', 'Q638'), ('the presidents of the quorums', 'Q30461'), ('Tyra Banks', 'Q153408'), ('Hunter King', 'Q5641545'), ('The Lawrenceville School', 'Q180958'), ('Starship', 'Q2003852'), ('Julie Peters', 'Q58029'), ('Dan Baird', 'Q14049'), ('woolly mammoth', 'Q3699044'), ('Tate Reeves', 'Q7687964'), ('Stalin', 'Q855'), ('in alphabetical order', 'Q1144915'), ('Peter MacDougall', 'Q7175573'), ('Exosphere', 'Q170332'), ('Wat Tyler', 'Q4378007'), ('A contest', 'Q476300'), (\"a patient 's friend\", 'Q181600'), ('City of Ashes', 'Q152079'), ('2006', 'Q2021'), ('Logan International Airport', 'Q671475'), ('Baker Mayfield', 'Q14950655'), ('Emily Wilding Davison', 'Q19007199'), ('Jharkhand', 'Q1184'), ('1 November 1968', 'Q16667197'), ('Roger Federer', 'Q1426'), ('hydronium ions', 'Q849881'), ('2012', 'Q1990'), ('Charleston Harbor', 'Q283202'), ('Adam McArthur', 'Q21155071'), ('Edward Norton', 'Q125904'), ('magic realism', 'Q147516'), ('Sloan Park', 'Q7010105'), ('Queen Mary I', 'Q82674'), ('Dory Funk Jr .', 'Q631530'), ('Michael Jace', 'Q950104'), ('Stu Mackenzie', 'Q1059903'), ('Southeast Asia', 'Q11708'), ('Pangaea', 'Q4398'), ('Earl Robinson', 'Q1384543'), ('in East Asia', 'Q48'), ('North Carolina', 'Q192334'), ('1981', 'Q2437'), ('salinity', 'Q179615'), ('138', 'Q30652'), ('Vanellope Von Schweetz', 'Q300942'), ('Richard Rodgers', 'Q269094'), ('Alexandra Hetherington Breckenridge', 'Q6081128'), ('Bono', 'Q834621'), ('Blue Nile', 'Q3392'), ('performing', 'Q35140'), ('1884', 'Q7819'), ('ferret', 'Q178973'), ('241', 'Q1473477'), ('Shirley Ann Pithers', 'Q220509'), ('Wham !', 'Q30622109'), ('The Acid Queen', 'Q15862'), ('Inflation', 'Q273508'), ('the precentral gyrus', 'Q1758383'), ('Tommen', 'Q19792294'), ('1985', 'Q2431'), ('Mother Teresa', 'Q30547'), ('the Battle of Puebla', 'Q1061228'), ('1912', 'Q2077'), (\"The song 's origin and basis remain unclear\", 'Q41407224'), ('Richard Petty', 'Q355130'), ('Bob Odenkirk', 'Q888178'), ('A&W Canada', 'Q16'), ('Bailee Madison', 'Q241749'), ('Mount Nebo', 'Q680161'), ('Adam G. Sevani', 'Q69488'), ('through the Florida Straits', 'Q232912'), ('Shaun Marsh', 'Q3242942'), ('1918', 'Q2094'), ('1947', 'Q5263'), ('2008', 'Q2004'), ('Carole King', 'Q116'), ('1874', 'Q7761'), ('1982', 'Q2436'), ('Iain Armitage', 'Q28911612'), ('53 km ( 33 mi ) in circumference', 'Q843905'), ('Tehmina Sunny', 'Q43959'), ('Petrograd', 'Q656'), ('Lenny Hayes', 'Q6522951'), ('2002', 'Q1987'), (\"`` Flavortown Market ''\", 'Q17485450'), ('French', 'Q121842'), ('Shah Jahan', 'Q83672'), ('Lignum vitae', 'Q2382443'), ('1998', 'Q2089'), ('Matt Cornett', 'Q204638'), ('Greg Maddux', 'Q709138'), ('Julián Felipe', 'Q6310270'), ('Czechia', 'Q213'), ('spherical aberration', 'Q2913798'), ('Northern Ireland', 'Q26'), ('iGot a Hot Room', 'Q533383'), ('Alladi Krishnaswamy Iyer', 'Q2736999'), ('Floyd Mayweather Jr.', 'Q492313'), ('20 miles ( 32 km )', 'Q253276'), ('Free', 'Q1050390'), ('Bhopal', 'Q80989'), ('1863', 'Q7701'), ('the Animals', 'Q729'), ('1725', 'Q6932'), ('National Park Service', 'Q906066'), ('Carthage', 'Q6343'), ('737', 'Q6387'), ('a transform boundary', 'Q133346'), ('anaerobe', 'Q189790'), ('Tracy McConnell', 'Q15362106'), ('1991', 'Q2062'), ('James Stewart', 'Q102462'), ('John Isner', 'Q53566'), ('India', 'Q668'), ('Susan Seaforth Hayes', 'Q223725'), ('Woodrow Wilson', 'Q211029'), ('Oedipus', 'Q130890'), ('NTFS', 'Q183205'), ('Qing dynasty', 'Q164950'), ('Andrew Jackson', 'Q11817'), ('Sachchidananda Sinha', 'Q7396684'), ('a boy', 'Q3010'), ('2029', 'Q12803'), ('doctor', 'Q39631'), ('Liverpool', 'Q24826'), ('Bryan Adams', 'Q482907'), ('Queen Elizabeth II', 'Q9682'), ('David Frizzell', 'Q304436'), ('Thom Pace', 'Q1232308'), ('1970', 'Q2474'), ('bowling', 'Q172809'), ('Matthew 7 : 6', 'Q4207683'), ('Moretti', 'Q954504'), ('Numbers 22 -- 24', 'Q6519186'), ('Jonathan Breck', 'Q968093'), ('1948', 'Q5165'), ('shark', 'Q11175'), (\"`` Leopard Catches Cloud ''\", 'Q8074'), ('Four', 'Q202'), ('2007', 'Q2024'), ('Gujarat', 'Q1061'), ('Michael Rooker', 'Q525065'), ('the Skull', 'Q13147'), ('Narcissus', 'Q724689'), ('Johann Herbart', 'Q76685'), ('1996 -- 97', 'Q2070'), ('George Washington', 'Q23'), ('( 27 d 7 h 43 min 11.5 s )', 'Q7727'), ('Appolo Ohanga', 'Q4781650'), ('New York City', 'Q60'), ('Matt Hardy', 'Q5790356'), ('Dido and Aeneas', 'Q82732'), ('Toni Tennille', 'Q7821350'), ('1968', 'Q2644'), ('Jeff Lynne', 'Q314358'), (\"to `` attend beauty school ''\", 'Q2474068'), ('Sir Chris Hoy', 'Q310383'), ('about 53 years old', 'Q5727902'), ('21 June 2007', 'Q2024'), ('Sadio Mané', 'Q209942'), ('bounty hunter Jango Fett', 'Q621613'), ('Justin Henry', 'Q486443'), ('New England Patriots', 'Q193390'), ('Vince Carter', 'Q1473046'), ('2014', 'Q1999'), ('Jeffrey Dean Morgan', 'Q342665'), ('editors', 'Q570393'), ('Harvey Korman', 'Q717656'), ('Ono', 'Q117012'), ('In this style 10 / 6', 'Q1153959'), ('The Houston Astros', 'Q848117'), ('181', 'Q31368'), ('James A. Bland', 'Q2013030'), ('Los Angeles', 'Q3376431'), ('1966', 'Q2649'), ('mallards', 'Q25348'), ('1992', 'Q2060'), ('The Mickey Mouse Club', 'Q1070749'), ('the stratosphere', 'Q108376'), ('Jackie Gleason', 'Q1360735'), ('Margaret Preece', 'Q6759811'), ('Australia', 'Q408'), (\"`` When It Rains It Pours ''\", 'Q4289296'), ('June 1665', 'Q7582'), ('Berry Gordy', 'Q355288'), ('1882', 'Q7812'), ('Trotter', 'Q2613097'), ('early 1964', 'Q2652'), ('CPUID opcode', 'Q766483'), ('1789', 'Q7772'), ('6 July', 'Q121'), ('George Town', 'Q1508377'), ('Aerosmith', 'Q126826'), ('1972', 'Q2476'), ('Queen Grimhilde', 'Q252044'), ('4 July 1918', 'Q16646848'), ('Alan Bergman', 'Q21489110'), ('19 October', 'Q124'), ('Jim Hardy', 'Q6195443'), ('Kamakawiwoʻole', 'Q42180'), ('Fourth Amendment', 'Q1269627'), ('The Sherman Brothers', 'Q2117821'), ('Dallas Mavericks', 'Q132893'), ('Rahul Dravid', 'Q470772'), ('2019', 'Q25274'), ('1900', 'Q2034'), ('16 June 2017', 'Q25290'), ('Lady Jane Grey', 'Q162356'), ('organ system', 'Q178706'), ('painted ladies', 'Q1418042'), ('the Boston area', 'Q1190137'), ('Post-monsoon or autumn season', 'Q1314'), ('Reilly', 'Q3809574'), ('Georgia', 'Q583532'), ('Alamo Square Park', 'Q1855438'), ('1985', 'Q2431'), ('Islands of Adventure', 'Q21802675'), (\"Bahá'u'lláh\", 'Q101054'), ('1970', 'Q2474'), ('April 19 , 1995', 'Q2068'), ('David Niven', 'Q181917'), ('oxidative phosphorylation', 'Q227564'), ('the East India Company', 'Q83164'), ('Theodor Schwann', 'Q76745'), ('1968', 'Q2644'), ('Barry Mann', 'Q809067'), ('the Queen', 'Q15862'), ('United States Congress', 'Q11268'), ('Eric Stewart', 'Q588591'), ('Salman', 'Q367825'), ('treason', 'Q160128'), ('Cashman Field', 'Q2722260'), ('Category 5', 'Q4167836'), ('New York Yankees', 'Q213417'), ('April 19 , 1775', 'Q7700'), ('After 80 overs', 'Q1210093'), ('Lady Deathstrike', 'Q2448071'), ('Plácido Galindo', 'Q2621986'), ('in 1949', 'Q5188'), ('2015', 'Q2002'), ('legislature', 'Q11204'), ('1922', 'Q2165'), ('Brett Kavanaugh', 'Q4962244'), ('five', 'Q203'), ('in the stroma', 'Q949627'), ('Benedict Cumberbatch', 'Q27614831'), (\"Abraham Lincoln 's\", 'Q91'), ('Poppy Drayton', 'Q5539027')]\n"
     ]
    }
   ],
   "source": [
    "zip_answer_entities = zip(one_node_short_answers, one_node_short_answer_entities)\n",
    "print(list(zip_answer_entities))"
   ]
  },
  {
   "cell_type": "code",
   "execution_count": null,
   "metadata": {},
   "outputs": [],
   "source": [
    "with gzip.open(corpus_path, 'rb') as f:\n",
    "    corpus = f.readlines()"
   ]
  }
 ],
 "metadata": {
  "kernelspec": {
   "display_name": "ipykernel-3.11.5",
   "language": "python",
   "name": "python3"
  },
  "language_info": {
   "codemirror_mode": {
    "name": "ipython",
    "version": 3
   },
   "file_extension": ".py",
   "mimetype": "text/x-python",
   "name": "python",
   "nbconvert_exporter": "python",
   "pygments_lexer": "ipython3",
   "version": "3.11.5"
  },
  "orig_nbformat": 4
 },
 "nbformat": 4,
 "nbformat_minor": 2
}
