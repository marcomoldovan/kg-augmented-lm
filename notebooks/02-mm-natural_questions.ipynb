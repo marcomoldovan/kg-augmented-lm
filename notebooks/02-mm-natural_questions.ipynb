{
 "cells": [
  {
   "cell_type": "code",
   "execution_count": 6,
   "metadata": {},
   "outputs": [
    {
     "name": "stdout",
     "output_type": "stream",
     "text": [
      "Downloaded the dataset to ../data/natural_questions/simplified-nq-train.jsonl.gz\n"
     ]
    }
   ],
   "source": [
    "import requests\n",
    "import os\n",
    "\n",
    "def download_nq_dataset(destination_dir):\n",
    "    # URL for the dataset\n",
    "    url = \"https://storage.googleapis.com/natural_questions/v1.0-simplified/simplified-nq-train.jsonl.gz\"\n",
    "    \n",
    "    # Make sure the destination directory exists\n",
    "    if not os.path.exists(destination_dir):\n",
    "        os.makedirs(destination_dir)\n",
    "\n",
    "    # Path to save the file\n",
    "    save_path = os.path.join(destination_dir, \"simplified-nq-train.jsonl.gz\")\n",
    "    \n",
    "    # Download the file\n",
    "    response = requests.get(url, stream=True)\n",
    "    response.raise_for_status()  # Raise an error for failed requests\n",
    "    with open(save_path, 'wb') as file:\n",
    "        for chunk in response.iter_content(chunk_size=8192):\n",
    "            file.write(chunk)\n",
    "\n",
    "    print(f\"Downloaded the dataset to {save_path}\")\n",
    "\n",
    "# Example usage\n",
    "destination_dir = \"../data/natural_questions/\"  # or any other directory you prefer\n",
    "download_nq_dataset(destination_dir)\n"
   ]
  },
  {
   "cell_type": "code",
   "execution_count": 10,
   "metadata": {},
   "outputs": [
    {
     "name": "stdout",
     "output_type": "stream",
     "text": [
      "which is the most common use of opt-in e-mail marketing\n",
      "how i.met your mother who is the mother\n",
      "what type of fertilisation takes place in humans\n",
      "who had the most wins in the nfl\n",
      "what happened to the lost settlement of roanoke\n",
      "what are the different regions of africa and how do they differ\n",
      "who played mantis guardians of the galaxy 2\n",
      "who did the voice of the magician in frosty the snowman\n",
      "what indian tribe did the acadians form friendships and alliances with\n",
      "what is considered the outer banks in north carolina\n",
      "who is deputy cm of j and k\n",
      "bangko sentral ng pilipinas (central bank of the philippines)\n",
      "actual time taken from start to finish to produce one unit of value\n",
      "i had trouble in getting to solla sellew\n",
      "ed sheeran i ' m in love with your body\n",
      "the nashville sound brought a polished and cosmopolitan sound to country music by\n",
      "the new atlantis a journal of technology and society\n",
      "list the seven wonders of the modern world\n",
      "rolling stone top bands of all time list\n",
      "what channel is the premier league on in france\n",
      "what is the use of jdk in java\n",
      "who needs to be in the car with a permit driver\n",
      "god's not dead a light in the darkness release date\n",
      "who plays young flo in the progressive commercials\n",
      "i love it (feat. charli xcx) icona pop\n",
      "the u.s. supreme court hears appeals from circuit courts\n",
      "ru pauls drag race all stars 2 episode 3\n",
      "who is the current president of un general assembly\n",
      "why does the author say that the vampire in nosferatu is named count orlok and not count dracula\n",
      "what season does chris pratt join the office\n",
      "when do they pull the powerball numbers 2016\n",
      "when do the eclipse supposed to take place\n",
      "what is the name of the sea surrounding dubai\n",
      "who holds the nba record for most points in a career\n",
      "when was all that is gold does not glitter written\n",
      "what is the musical term for fast tempo\n",
      "is there an active volcano in new zealand\n",
      "once upon a time season 6 episode list\n",
      "where is a georgia concealed carry permit valid\n",
      "when does a tv show go into syndication\n",
      "who was eliminated from big brother this week\n",
      "when did the new maze runner movie come out\n",
      "where does the san andres fault start and end\n",
      "who is the former co-chairman goldman sachs who became a u.s. secretary of the treasury\n",
      "how many players on a box lacrosse team\n",
      "where are the upcoming olympics to be held\n",
      "when did the nba 3 second rule start\n",
      "when were the plus and minus signs first recorded\n",
      "where does the phrase bob's your uncle come from\n",
      "the one where chandler and monica get engaged\n",
      "who won so you think you can dance 2016\n",
      "who plays norman bates in the tv show\n"
     ]
    }
   ],
   "source": [
    "import gzip\n",
    "import json\n",
    "\n",
    "data = []\n",
    "\n",
    "with gzip.open('../data/natural_questions/simplified-nq-train.jsonl.gz', 'rt', encoding='utf-8') as f:\n",
    "    for i, line in enumerate(f):\n",
    "        entry = json.loads(line)\n",
    "        print(entry['question_text'])\n",
    "        if i > 50:\n",
    "            break\n",
    "        data.append(entry)\n"
   ]
  },
  {
   "cell_type": "code",
   "execution_count": null,
   "metadata": {},
   "outputs": [],
   "source": []
  }
 ],
 "metadata": {
  "kernelspec": {
   "display_name": "ipykernel-3.11.5",
   "language": "python",
   "name": "python3"
  },
  "language_info": {
   "codemirror_mode": {
    "name": "ipython",
    "version": 3
   },
   "file_extension": ".py",
   "mimetype": "text/x-python",
   "name": "python",
   "nbconvert_exporter": "python",
   "pygments_lexer": "ipython3",
   "version": "3.11.5"
  },
  "orig_nbformat": 4
 },
 "nbformat": 4,
 "nbformat_minor": 2
}
