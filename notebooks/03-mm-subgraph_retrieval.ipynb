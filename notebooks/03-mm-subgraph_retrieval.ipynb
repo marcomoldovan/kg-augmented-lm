{
 "cells": [
  {
   "cell_type": "code",
   "execution_count": 1,
   "metadata": {},
   "outputs": [],
   "source": [
    "import os\n",
    "import gzip\n",
    "from tqdm import tqdm\n",
    "from graph_tool import Graph, GraphView, load_graph\n",
    "from graph_tool.util import find_vertex\n",
    "import graph_tool as gt"
   ]
  },
  {
   "cell_type": "code",
   "execution_count": 2,
   "metadata": {},
   "outputs": [],
   "source": [
    "class GraphProcessor:\n",
    "    def __init__(\n",
    "        self, \n",
    "        data_dir, \n",
    "        triples_file='wikidata5m_transductive.tar.gz', \n",
    "        graph_file='wikidata5m_graph.gt.gz', \n",
    "        max_subgraph_edges=1000000):\n",
    "        \n",
    "        triples_path = os.path.join(data_dir, triples_file)\n",
    "        graph_path = os.path.join(data_dir, graph_file)\n",
    "        \n",
    "        self.graph = self.build_full_graph(data_dir, triples_path, graph_path, max_subgraph_edges)\n",
    "\n",
    "    def build_graph(self, triples):\n",
    "        g = Graph(directed=True)\n",
    "        vprop = g.new_vertex_property(\"string\")\n",
    "        eprop = g.new_edge_property(\"string\")\n",
    "\n",
    "        vertices = {}\n",
    "        for s, p, o in triples:\n",
    "            if s not in vertices:\n",
    "                v1 = g.add_vertex()\n",
    "                vprop[v1] = s\n",
    "                vertices[s] = v1\n",
    "            else:\n",
    "                v1 = vertices[s]\n",
    "\n",
    "            if o not in vertices:\n",
    "                v2 = g.add_vertex()\n",
    "                vprop[v2] = o\n",
    "                vertices[o] = v2\n",
    "            else:\n",
    "                v2 = vertices[o]\n",
    "\n",
    "            e = g.add_edge(v1, v2)\n",
    "            eprop[e] = p\n",
    "\n",
    "        g.vertex_properties[\"name\"] = vprop\n",
    "        g.edge_properties[\"name\"] = eprop\n",
    "\n",
    "        return g\n",
    "    \n",
    "    def merge_subgraph(main_graph, subgraph):\n",
    "        # Dictionary to store the mapping of old vertices in subgraph to new vertices in main_graph\n",
    "        vertex_map = {}\n",
    "\n",
    "        for v in subgraph.vertices():\n",
    "            v_name = subgraph.vp.name[v]\n",
    "            \n",
    "            # Check if vertex already exists in main_graph\n",
    "            existing_vertices = find_vertex(main_graph, main_graph.vp.name, v_name)\n",
    "            if existing_vertices:\n",
    "                v_new = existing_vertices[0]\n",
    "            else:\n",
    "                v_new = main_graph.add_vertex()\n",
    "                main_graph.vp.name[v_new] = v_name\n",
    "\n",
    "            vertex_map[v] = v_new\n",
    "\n",
    "        for e in subgraph.edges():\n",
    "            source = vertex_map[e.source()]\n",
    "            target = vertex_map[e.target()]\n",
    "            e_new = main_graph.add_edge(source, target)\n",
    "            main_graph.ep.name[e_new] = subgraph.ep.name[e]\n",
    "\n",
    "    \n",
    "    def build_full_graph(self, data_dir, triples_path, graph_path, max_subgraph_edges=1000000):       \n",
    "        if os.path.exists(graph_path):\n",
    "            with gzip.open(graph_path, 'rb') as f:\n",
    "                return load_graph(f)\n",
    "            \n",
    "        else:\n",
    "            # Extract triples using the gzip approach\n",
    "            with gzip.open(triples_path, 'rt') as file:\n",
    "                lines = file.readlines()[1:-1]\n",
    "            \n",
    "            num_chunks = -(-len(lines) // max_subgraph_edges)  # Ceiling division\n",
    "            subgraphs = []  # to store paths of saved subgraphs\n",
    "                    \n",
    "            for i in tqdm(range(num_chunks), desc=\"Building Subgraphs\"):\n",
    "                start = i * max_subgraph_edges\n",
    "                end = min((i + 1) * max_subgraph_edges, len(lines))\n",
    "                triples_chunk = [tuple(line.strip().split('\\t')) for line in lines[start:end]]\n",
    "                \n",
    "                subgraph = self.build_graph(triples_chunk)\n",
    "                \n",
    "                subgraph_path = os.path.join(data_dir, f\"wikidata5m_subgraph_{i}.gt\")\n",
    "                subgraph.save(subgraph_path)\n",
    "                subgraphs.append(subgraph_path)\n",
    "\n",
    "            # Start with the first subgraph\n",
    "            main_graph = load_graph(subgraphs[0])\n",
    "            \n",
    "            # Add the other subgraphs to it one by one\n",
    "            for subgraph_path in tqdm(subgraphs[1:], desc=\"Merging Subgraphs\"):\n",
    "                subgraph = load_graph(subgraph_path)\n",
    "                self.merge_subgraph(main_graph, subgraph)\n",
    "                \n",
    "            # Saving the final merged graph in gzipped format\n",
    "            with gzip.open(graph_path, 'wb') as f:\n",
    "                main_graph.save(f)\n",
    "            \n",
    "            # Deleting the subgraph files\n",
    "            for subgraph_path in subgraphs:\n",
    "                os.remove(subgraph_path)\n",
    "\n",
    "            return main_graph\n",
    "\n",
    "    # def get_k_hop_neighbors(self, node, k=2):\n",
    "    #     \"\"\"Retrieve k-hop neighbors for a given node.\"\"\"\n",
    "    #     v = find_vertex(self.graph, self.vprop, node)\n",
    "    #     if v:\n",
    "    #         v = v[0]\n",
    "    #         neighbors = set()\n",
    "    #         for e in self.graph.edges():\n",
    "    #             if e.source() == v or e.target() == v:\n",
    "    #                 neighbors.add(int(self.vprop[e.source()]))\n",
    "    #                 neighbors.add(int(self.vprop[e.target()]))\n",
    "    #         return list(neighbors)\n",
    "    #     else:\n",
    "    #         return []\n",
    "\n",
    "    # def prune_by_degree(self, vertices, k=2, max_nodes=256):\n",
    "    #     \"\"\"Prune the subgraph based on node degree.\"\"\"\n",
    "    #     while len(vertices) > max_nodes:\n",
    "    #         degree_dict = {v: self.graph.vertex(v).out_degree() for v in vertices}\n",
    "    #         sorted_vertices = sorted(degree_dict.keys(), key=lambda x: degree_dict[x])\n",
    "    #         vertices = sorted_vertices[:max_nodes]\n",
    "    #     return vertices\n",
    "\n",
    "    # def get_subgraph_for_entities(self, entities, k=2, max_nodes=256):\n",
    "    #     \"\"\"Retrieve a subgraph for a given list of entities.\"\"\"\n",
    "    #     all_neighbors = set()\n",
    "    #     for entity in entities:\n",
    "    #         all_neighbors.update(self.get_k_hop_neighbors(entity, k))\n",
    "    #     subgraph_vertices = list(all_neighbors)\n",
    "    #     pruned_subgraph_vertices = self.prune_by_degree(subgraph_vertices, k=k, max_nodes=max_nodes)\n",
    "\n",
    "    #     subgraph = GraphView(self.graph, vfilt=lambda v: self.vprop[v] in pruned_subgraph_vertices)\n",
    "\n",
    "    #     return subgraph"
   ]
  },
  {
   "cell_type": "code",
   "execution_count": 3,
   "metadata": {},
   "outputs": [],
   "source": [
    "graph_dir = os.path.join(os.getcwd(), '../data/wikidata5m')\n",
    "graph_path = os.path.join(os.getcwd(), graph_dir, 'wikidata5m_graph.gt.gz')\n",
    "triples_path = os.path.join(os.getcwd(), graph_dir, 'wikidata5m_transductive.tar.gz')"
   ]
  },
  {
   "cell_type": "code",
   "execution_count": 4,
   "metadata": {},
   "outputs": [],
   "source": [
    "gp = GraphProcessor(data_dir=graph_dir, max_subgraph_edges=21000000)"
   ]
  },
  {
   "cell_type": "code",
   "execution_count": 5,
   "metadata": {},
   "outputs": [],
   "source": [
    "from collections import Counter\n",
    "import numpy as np"
   ]
  },
  {
   "cell_type": "code",
   "execution_count": 10,
   "metadata": {},
   "outputs": [],
   "source": [
    "def graph_statistics(graph, n):\n",
    "    # Calculate the average degree\n",
    "    degrees = graph.get_total_degrees(graph.get_vertices())\n",
    "    avg_degree = np.mean(degrees)\n",
    "\n",
    "    # Calculate the mode of the degree\n",
    "    degree_counts = Counter(degrees)\n",
    "    mode_degree = max(degree_counts, key=degree_counts.get)\n",
    "\n",
    "    # Count the number of nodes with degree less than n\n",
    "    count_below_n = sum(1 for d in degrees if d > n)\n",
    "\n",
    "    return avg_degree, mode_degree, count_below_n"
   ]
  },
  {
   "cell_type": "code",
   "execution_count": 11,
   "metadata": {},
   "outputs": [],
   "source": [
    "avg_degree, mode_degree, count_below_n = graph_statistics(gp.graph, 10)"
   ]
  },
  {
   "cell_type": "code",
   "execution_count": 12,
   "metadata": {},
   "outputs": [
    {
     "name": "stdout",
     "output_type": "stream",
     "text": [
      "Average Degree: 8.977967938089266\n",
      "Mode Degree: 3\n",
      "Number of nodes with degree more than 10: 533984\n"
     ]
    }
   ],
   "source": [
    "print(f\"Average Degree: {avg_degree}\")\n",
    "print(f\"Mode Degree: {mode_degree}\")\n",
    "print(f\"Number of nodes with degree more than {10}: {count_below_n}\")"
   ]
  },
  {
   "cell_type": "code",
   "execution_count": 6,
   "metadata": {},
   "outputs": [
    {
     "name": "stdout",
     "output_type": "stream",
     "text": [
      "Total number of unique edge types: 822\n"
     ]
    }
   ],
   "source": [
    "def num_edge_types(graph, edge_property_name=\"name\"):\n",
    "    # Extract the edge property values into a set to get unique values\n",
    "    unique_edge_types = set(graph.ep[edge_property_name])\n",
    "    return len(unique_edge_types)\n",
    "\n",
    "# Usage example:\n",
    "n_edge_types = num_edge_types(gp.graph, \"name\")\n",
    "print(f\"Total number of unique edge types: {n_edge_types}\")"
   ]
  },
  {
   "cell_type": "code",
   "execution_count": 7,
   "metadata": {},
   "outputs": [],
   "source": [
    "with gzip.open(triples_path, 'rt') as file:\n",
    "    lines = file.readlines()[1:-1]"
   ]
  },
  {
   "cell_type": "code",
   "execution_count": 8,
   "metadata": {},
   "outputs": [
    {
     "name": "stdout",
     "output_type": "stream",
     "text": [
      "['Q6719921', 'P31', 'Q11446']\n",
      "['Q4925109', 'P175', 'Q5165801']\n",
      "['Q11010724', 'P734', 'Q59853']\n",
      "['Q1236794', 'P31', 'Q1134686']\n",
      "['Q1053299', 'P159', 'Q1761']\n",
      "['Q1306857', 'P141', 'Q211005']\n",
      "['Q247581', 'P361', 'Q849059']\n",
      "['Q15489648', 'P31', 'Q5']\n",
      "['Q4816942', 'P31', 'Q3957']\n",
      "['Q374813', 'P19', 'Q139046']\n",
      "['Q14579', 'P400', 'Q390389']\n",
      "['Q7425556', 'P131', 'Q1989']\n",
      "['Q3810769', 'P54', 'Q2049524']\n",
      "['Q8021705', 'P54', 'Q192597']\n",
      "['Q90457', 'P102', 'Q328195']\n"
     ]
    }
   ],
   "source": [
    "for line in lines[:15]:\n",
    "    triple = line.strip().split('\\t')\n",
    "    print(triple)"
   ]
  },
  {
   "cell_type": "code",
   "execution_count": 9,
   "metadata": {},
   "outputs": [
    {
     "name": "stdout",
     "output_type": "stream",
     "text": [
      "P31\n",
      "P175\n",
      "P734\n",
      "P31\n",
      "P159\n",
      "P141\n",
      "P361\n",
      "P31\n",
      "P31\n",
      "P19\n",
      "P400\n",
      "P131\n",
      "P54\n",
      "P54\n",
      "P102\n"
     ]
    }
   ],
   "source": [
    "def find_edge(graph, source_name, target_name):\n",
    "    \"\"\"\n",
    "    Given a graph, a source entity name, and a target entity name,\n",
    "    this function checks if there's an edge between the two entities.\n",
    "    If the edge exists, it returns the relation type (edge property).\n",
    "    Otherwise, it returns None.\n",
    "    \"\"\"\n",
    "    vprop = graph.vp.name\n",
    "    eprop = graph.ep.name\n",
    "    \n",
    "    source_vertex = find_vertex(graph, vprop, source_name)\n",
    "    target_vertex = find_vertex(graph, vprop, target_name)\n",
    "\n",
    "    if not source_vertex or not target_vertex:\n",
    "        return None\n",
    "\n",
    "    # Since find_vertex returns a list, we get the first item as our vertex.\n",
    "    source_vertex = source_vertex[0]\n",
    "    target_vertex = target_vertex[0]\n",
    "\n",
    "    edge = graph.edge(source_vertex, target_vertex)\n",
    "\n",
    "    if edge:\n",
    "        return eprop[edge]\n",
    "    else:\n",
    "        return None\n",
    "\n",
    "for line in lines[:15]:\n",
    "    triple = line.strip().split('\\t')\n",
    "    edge = find_edge(gp.graph, triple[0], triple[2])\n",
    "    print(edge)"
   ]
  },
  {
   "cell_type": "code",
   "execution_count": null,
   "metadata": {},
   "outputs": [],
   "source": [
    "gp.graph.get_all_neighbours(0)"
   ]
  },
  {
   "cell_type": "code",
   "execution_count": 10,
   "metadata": {},
   "outputs": [
    {
     "name": "stdout",
     "output_type": "stream",
     "text": [
      "1506658\n",
      "['Q38', 'Q52227', 'Q6655', 'Q270091', 'Q747074', 'Q13372', 'Q160628', 'Q270220', 'Q6723', 'Q16205', 'Q52233', 'Q160628', 'Q16205', 'Q487473', 'Q52227', 'Q52233', 'Q270220', 'Q3655365', 'Q13372', 'Q270091', 'Q2314005', 'Q3966766', 'Q27881215']\n"
     ]
    }
   ],
   "source": [
    "vertex = find_vertex(gp.graph, gp.graph.vp.name, 'Q52234')[0]\n",
    "print(vertex)\n",
    "neighbors = gp.graph.get_all_neighbors(vertex)\n",
    "neighbors = [gp.graph.vp.name[v] for v in neighbors]\n",
    "print(neighbors)"
   ]
  },
  {
   "cell_type": "code",
   "execution_count": 14,
   "metadata": {},
   "outputs": [],
   "source": [
    "def get_k_hop_neighbors(graph: Graph, node, k=1):\n",
    "    \"\"\"Retrieve k-hop neighbors for a given node.\"\"\"\n",
    "    \n",
    "    visited = set()\n",
    "    queue = [(node, 0)]  # The tuple contains the node and its distance from the source node\n",
    "    \n",
    "    while queue:\n",
    "        current_node, distance = queue.pop(0)\n",
    "        if current_node not in visited:\n",
    "            visited.add(current_node)\n",
    "            \n",
    "            if distance < k:\n",
    "                neighbors = graph.vertex(current_node).all_neighbors()\n",
    "                edges = graph.vertex(current_node).all_edges()\n",
    "                out_degree = graph.vertex(current_node).out_degree()\n",
    "                in_degree = graph.vertex(current_node).in_degree()\n",
    "                dummy_var = None\n",
    "                for neighbor in graph.vertex(current_node).all_neighbors():\n",
    "                    queue.append((neighbor, distance + 1))\n",
    "\n",
    "    # Remove the source node\n",
    "    visited.remove(node)\n",
    "    return list(visited)\n",
    "\n",
    "def extract_subgraph_path_degree(graph: Graph, source_entities, k, max_nodes):\n",
    "    # Step 1: Extract k-hop subgraph\n",
    "    all_neighbors = set(source_entities)\n",
    "    for _ in range(k):\n",
    "        current_neighbors = set()\n",
    "        for entity in all_neighbors:\n",
    "            vertex = find_vertex(gp.graph, gp.graph.vp.name, entity)[0]\n",
    "            current_neighbors.update(get_k_hop_neighbors(graph, vertex, k))\n",
    "        all_neighbors.update(current_neighbors)\n",
    "    \n",
    "    # Convert set to list to work with indices\n",
    "    all_neighbors = list(all_neighbors)\n",
    "    \n",
    "    # # Step 2: Calculate local degree\n",
    "    # degrees = {node: 0 for node in all_neighbors}\n",
    "    # for i, node1 in enumerate(all_neighbors):\n",
    "    #     for j, node2 in enumerate(all_neighbors):\n",
    "    #         if i != j and graph.edge(node1, node2):\n",
    "    #             degrees[node1] += 1\n",
    "    #             degrees[node2] += 1\n",
    "    \n",
    "    # # Step 3: Prune nodes if needed\n",
    "    # if len(all_neighbors) > max_nodes:\n",
    "    #     sorted_nodes = sorted(degrees.keys(), key=lambda x: degrees[x], reverse=True)\n",
    "    #     all_neighbors = sorted_nodes[:max_nodes]\n",
    "    \n",
    "    # Extract the subgraph\n",
    "    subgraph = GraphView(graph, vfilt=lambda v: graph.vp.name[v] in all_neighbors)\n",
    "    return subgraph"
   ]
  },
  {
   "cell_type": "code",
   "execution_count": 12,
   "metadata": {},
   "outputs": [],
   "source": [
    "def average_node_degree(graph):\n",
    "    \"\"\"\n",
    "    Compute the average degree of nodes in the graph.\n",
    "\n",
    "    Parameters:\n",
    "    - graph: A graph_tool.Graph object.\n",
    "\n",
    "    Returns:\n",
    "    - float: The average degree of nodes in the graph.\n",
    "    \"\"\"\n",
    "    \n",
    "    # Total degrees (sum of in and out degrees for each node)\n",
    "    total_degrees = sum(v.out_degree() + v.in_degree() for v in graph.vertices())\n",
    "    \n",
    "    # Average degree\n",
    "    avg_degree = total_degrees / graph.num_vertices()\n",
    "    \n",
    "    return avg_degree"
   ]
  },
  {
   "cell_type": "code",
   "execution_count": 13,
   "metadata": {},
   "outputs": [
    {
     "name": "stdout",
     "output_type": "stream",
     "text": [
      "Average node degree: 8.977967938089266\n"
     ]
    }
   ],
   "source": [
    "avg_node_degree = average_node_degree(gp.graph)\n",
    "print(f\"Average node degree: {avg_node_degree}\")"
   ]
  },
  {
   "cell_type": "code",
   "execution_count": 28,
   "metadata": {},
   "outputs": [
    {
     "name": "stdout",
     "output_type": "stream",
     "text": [
      "350504\n",
      "<class 'graph_tool.libgraph_tool_core.Vertex'>\n",
      "[ 509439  732044  439350     119  840198  507772 1222367  194793 2194781\n",
      " 2240924 2281144  223915  772394  132450    5558    8478 3221287   81266\n",
      "    6654  109367     757  419388 2037149  987831 2295135  432470  327782\n",
      " 3164783    4627   84539  358545  496908   29120    2394 1939895  376375\n",
      "  396127   19427 1549253     740 2575705 3962655 3126404      43  665725\n",
      "      15  560465  886008 1083555  133696  260568 2297224   64568    1397\n",
      " 3735010      49 1496342     717  174432 3994725     367  226337  280855\n",
      "  677905  109613  277933   49191  207888  223915  247536  272619  277933\n",
      "  280855  300044  327782  338331  345010  350503      43    7288    7289\n",
      "   19427   56087   84539   91698  109683  132844  136681  142145  167353\n",
      "  183525  196769  204579  382166  396127  398554  402324  496908  510474\n",
      "  520348  521234  539655  560465  560466  575715  580939  593500  607154\n",
      "  610148  610149  645636  652752  674163  675534  681997  745910  799665\n",
      "  828693  851238  861401  882345  882346  894575  915961  930631  935136\n",
      "  940359  977045  991841 1016982 1123870 1125232 1157228 1177532 1193120\n",
      " 1207582 1210331 1218536 1222367 1357984 1365555 1459671 1475111 1475992\n",
      " 1549253 1589342 1597946 1605783 1622532 1650698 1674039 1683283 1686741\n",
      " 1712349 1725493 1728623 1730626 1752732 1758858 1765651 1827882 1837029\n",
      " 1841144 1889446 1889447 1949914 1971791 1989305 1995176 2008282 2022902\n",
      " 2057546 2072662 2087012 2130237 2148099 2153189 2245794 2285318 2308425\n",
      " 2335609 2358499 2433077 2457225 2463583 2480127 2497122 2514865 2515602\n",
      " 2528688 2529024 2556574 2584856 2605123 2634512 2636056 2642378 2661056\n",
      " 2661603 2682253 2690777 2724486 2725302 2735361 2744944 2765294 2782967\n",
      " 2823498 2859896 2859897 2870717 2894599 2901589 2919355 2966853 2977539\n",
      " 3022727 3043418 3064858 3074490 3075051 3288244 3330120 3371771 3417042\n",
      " 3474446 3519734 3582395 3655291 3675246 3737067 3749714 3785236 3864063\n",
      " 3890927 3955023 3976879 3979302 4024514 4096821 4148638 4180682 4194806\n",
      " 4250388 4594142]\n",
      "[]\n"
     ]
    }
   ],
   "source": [
    "entities = [('Q76', 0, 11), ('Q782', 25, 30), ('Q61061', 61, 69), ('Q30', 78, 90), ('Q8445', 111, 117), ('Q200', 145, 147), ('Q444353', 171, 175), ('Q61061', 183, 191), ('Q30', 200, 212), ('Q3220821', 230, 236), ('Q30', 245, 257), ('Q30', 262, 268), ('Q61', 273, 287), ('Q11651', 293, 299), ('Q61061', 301, 309), ('Q30', 318, 330), ('Q30', 335, 341), ('Q2057908', 346, 351), ('Q22686', 360, 371), ('Q22686', 390, 401), ('Q8445', 406, 412), ('Q16279311', 417, 423), ('Q22686', 432, 443), ('Q203', 449, 452), ('Q22686', 464, 475), ('Q61061', 489, 497), ('Q30', 506, 518)]\n",
    "entities = [entity[0] for entity in entities]\n",
    "internal_entity_ids = []\n",
    "for entity in entities:\n",
    "    internal_id = find_vertex(gp.graph, gp.graph.vp.name, entity)[0]\n",
    "    print(internal_id)\n",
    "    print(type(internal_id))\n",
    "    neighbors = gp.graph.get_all_neighbors(internal_id)\n",
    "    print(neighbors)\n",
    "    break\n",
    "print(internal_entity_ids)\n"
   ]
  },
  {
   "cell_type": "code",
   "execution_count": 66,
   "metadata": {},
   "outputs": [],
   "source": [
    "batch_of_entities = [\n",
    "    [('Q782', 25, 30), ('Q61061', 61, 69), ('Q30', 78, 90), ('Q8445', 111, 117), ('Q200', 145, 147), ('Q444353', 171, 175), ('Q61061', 183, 191), ('Q30', 200, 212), ('Q3220821', 230, 236), ('Q30', 245, 257), ('Q30', 262, 268), ('Q61', 273, 287), ('Q11651', 293, 299), ('Q61061', 301, 309), ('Q2057908', 346, 351), ('Q22686', 360, 371), ('Q22686', 390, 401), ('Q8445', 406, 412), ('Q16279311', 417, 423), ('Q22686', 432, 443), ('Q203', 449, 452), ('Q22686', 464, 475), ('Q61061', 489, 497), ('Q30', 506, 518)],\n",
    "    [('Q76', 0, 11), ('Q61061', 61, 69), ('Q30', 78, 90), ('Q8445', 111, 117), ('Q200', 145, 147), ('Q444353', 171, 175), ('Q61061', 183, 191), ('Q30', 200, 212), ('Q3220821', 230, 236), ('Q30', 245, 257), ('Q30', 262, 268), ('Q61', 273, 287), ('Q11651', 293, 299), ('Q61061', 301, 309), ('Q30', 335, 341),('Q22686', 390, 401), ('Q8445', 406, 412), ('Q16279311', 417, 423), ('Q22686', 432, 443), ('Q203', 449, 452), ('Q22686', 464, 475), ('Q61061', 489, 497), ('Q30', 506, 518)],\n",
    "    [('Q76', 0, 11), ('Q782', 25, 30), ('Q30', 78, 90), ('Q8445', 111, 117), ('Q200', 145, 147), ('Q444353', 171, 175), ('Q61061', 183, 191), ('Q30', 200, 212), ('Q3220821', 230, 236), ('Q30', 245, 257), ('Q30', 262, 268), ('Q61', 273, 287), ('Q11651', 293, 299), ('Q30', 318, 330), ('Q30', 335, 341), ('Q2057908', 346, 351),('Q8445', 406, 412), ('Q16279311', 417, 423), ('Q22686', 432, 443), ('Q203', 449, 452), ('Q22686', 464, 475), ('Q61061', 489, 497), ('Q30', 506, 518)],\n",
    "    [('Q76', 0, 11), ('Q782', 25, 30), ('Q61061', 61, 69), ('Q8445', 111, 117), ('Q200', 145, 147), ('Q444353', 171, 175), ('Q61061', 183, 191), ('Q30', 200, 212), ('Q3220821', 230, 236), ('Q30', 245, 257), ('Q30', 262, 268), ('Q61', 273, 287), ('Q61061', 301, 309), ('Q30', 318, 330), ('Q30', 335, 341), ('Q2057908', 346, 351), ('Q22686', 360, 371), ('Q16279311', 417, 423), ('Q22686', 432, 443), ('Q203', 449, 452), ('Q22686', 464, 475), ('Q61061', 489, 497), ('Q30', 506, 518)],\n",
    "    [('Q76', 0, 11), ('Q782', 25, 30), ('Q61061', 61, 69), ('Q30', 78, 90), ('Q200', 145, 147), ('Q444353', 171, 175), ('Q61061', 183, 191), ('Q30', 200, 212), ('Q3220821', 230, 236), ('Q30', 245, 257), ('Q30', 262, 268), ('Q11651', 293, 299), ('Q61061', 301, 309), ('Q30', 318, 330), ('Q30', 335, 341), ('Q2057908', 346, 351), ('Q22686', 360, 371), ('Q22686', 390, 401), ('Q22686', 432, 443), ('Q203', 449, 452), ('Q22686', 464, 475), ('Q61061', 489, 497), ('Q30', 506, 518)],\n",
    "    [('Q76', 0, 11), ('Q782', 25, 30), ('Q61061', 61, 69), ('Q30', 78, 90), ('Q8445', 111, 117), ('Q444353', 171, 175), ('Q61061', 183, 191), ('Q30', 200, 212), ('Q3220821', 230, 236), ('Q30', 245, 257), ('Q61', 273, 287), ('Q11651', 293, 299), ('Q61061', 301, 309), ('Q30', 318, 330), ('Q30', 335, 341), ('Q2057908', 346, 351), ('Q22686', 360, 371), ('Q22686', 390, 401), ('Q8445', 406, 412), ('Q203', 449, 452), ('Q22686', 464, 475), ('Q61061', 489, 497), ('Q30', 506, 518)],\n",
    "    [('Q76', 0, 11), ('Q782', 25, 30), ('Q61061', 61, 69), ('Q30', 78, 90), ('Q8445', 111, 117), ('Q200', 145, 147), ('Q61061', 183, 191), ('Q30', 200, 212), ('Q3220821', 230, 236), ('Q30', 262, 268), ('Q61', 273, 287), ('Q11651', 293, 299), ('Q61061', 301, 309), ('Q30', 318, 330), ('Q30', 335, 341), ('Q2057908', 346, 351), ('Q22686', 360, 371), ('Q22686', 390, 401), ('Q8445', 406, 412), ('Q203', 449, 452), ('Q22686', 464, 475), ('Q61061', 489, 497), ('Q30', 506, 518)],\n",
    "    [('Q76', 0, 11), ('Q782', 25, 30), ('Q61061', 61, 69), ('Q30', 78, 90), ('Q8445', 111, 117), ('Q200', 145, 147), ('Q444353', 171, 175), ('Q30', 200, 212), ('Q30', 245, 257), ('Q30', 262, 268), ('Q61', 273, 287), ('Q11651', 293, 299), ('Q61061', 301, 309), ('Q30', 318, 330), ('Q30', 335, 341), ('Q2057908', 346, 351), ('Q22686', 360, 371), ('Q22686', 390, 401), ('Q8445', 406, 412), ('Q16279311', 417, 423), ('Q22686', 464, 475), ('Q61061', 489, 497), ('Q30', 506, 518)],\n",
    "    [('Q76', 0, 11), ('Q782', 25, 30), ('Q61061', 61, 69), ('Q30', 78, 90), ('Q8445', 111, 117), ('Q200', 145, 147), ('Q444353', 171, 175), ('Q3220821', 230, 236), ('Q30', 245, 257), ('Q30', 262, 268), ('Q61', 273, 287), ('Q11651', 293, 299), ('Q61061', 301, 309), ('Q30', 318, 330), ('Q30', 335, 341), ('Q2057908', 346, 351), ('Q22686', 360, 371), ('Q22686', 390, 401), ('Q8445', 406, 412), ('Q16279311', 417, 423), ('Q22686', 432, 443), ('Q61061', 489, 497), ('Q30', 506, 518)],\n",
    "    [('Q76', 0, 11), ('Q782', 25, 30), ('Q61061', 61, 69), ('Q30', 78, 90), ('Q8445', 111, 117), ('Q200', 145, 147),('Q61061', 183, 191), ('Q30', 200, 212), ('Q30', 245, 257), ('Q30', 262, 268), ('Q61', 273, 287), ('Q11651', 293, 299), ('Q61061', 301, 309), ('Q30', 318, 330), ('Q30', 335, 341), ('Q2057908', 346, 351), ('Q22686', 360, 371), ('Q22686', 390, 401), ('Q8445', 406, 412), ('Q16279311', 417, 423), ('Q22686', 432, 443), ('Q203', 449, 452), ('Q30', 506, 518)],\n",
    "    [('Q76', 0, 11), ('Q782', 25, 30), ('Q61061', 61, 69), ('Q30', 78, 90), ('Q8445', 111, 117),('Q444353', 171, 175), ('Q61061', 183, 191), ('Q30', 200, 212), ('Q3220821', 230, 236), ('Q30', 262, 268), ('Q61', 273, 287), ('Q11651', 293, 299), ('Q61061', 301, 309), ('Q30', 318, 330), ('Q30', 335, 341), ('Q2057908', 346, 351), ('Q22686', 360, 371), ('Q22686', 390, 401), ('Q8445', 406, 412), ('Q16279311', 417, 423), ('Q22686', 432, 443), ('Q203', 449, 452), ('Q22686', 464, 475), ],\n",
    "    [('Q76', 0, 11), ('Q782', 25, 30), ('Q61061', 61, 69), ('Q30', 78, 90), ('Q200', 145, 147), ('Q444353', 171, 175), ('Q61061', 183, 191), ('Q30', 200, 212), ('Q3220821', 230, 236), ('Q30', 245, 257), ('Q61', 273, 287), ('Q11651', 293, 299), ('Q61061', 301, 309), ('Q30', 318, 330), ('Q30', 335, 341), ('Q2057908', 346, 351), ('Q22686', 360, 371), ('Q22686', 390, 401), ('Q8445', 406, 412), ('Q16279311', 417, 423), ('Q22686', 432, 443), ('Q203', 449, 452), ('Q22686', 464, 475), ('Q61061', 489, 497), ],\n",
    "    [('Q76', 0, 11), ('Q782', 25, 30), ('Q61061', 61, 69),('Q8445', 111, 117), ('Q200', 145, 147), ('Q444353', 171, 175), ('Q61061', 183, 191), ('Q30', 200, 212), ('Q3220821', 230, 236), ('Q30', 245, 257), ('Q30', 262, 268), ('Q11651', 293, 299), ('Q61061', 301, 309), ('Q30', 318, 330), ('Q30', 335, 341), ('Q2057908', 346, 351), ('Q22686', 360, 371), ('Q22686', 390, 401), ('Q8445', 406, 412), ('Q16279311', 417, 423), ('Q22686', 432, 443), ('Q203', 449, 452), ('Q61061', 489, 497), ('Q30', 506, 518)],\n",
    "    [('Q76', 0, 11), ('Q782', 25, 30), ('Q30', 78, 90), ('Q8445', 111, 117), ('Q200', 145, 147), ('Q444353', 171, 175), ('Q61061', 183, 191), ('Q30', 200, 212), ('Q3220821', 230, 236), ('Q30', 245, 257), ('Q30', 262, 268), ('Q61', 273, 287), ('Q61061', 301, 309), ('Q30', 318, 330), ('Q30', 335, 341), ('Q2057908', 346, 351), ('Q22686', 360, 371), ('Q22686', 390, 401), ('Q8445', 406, 412), ('Q16279311', 417, 423), ('Q22686', 432, 443), ('Q22686', 464, 475), ('Q30', 506, 518)],\n",
    "    [('Q76', 0, 11), ('Q61061', 61, 69), ('Q30', 78, 90), ('Q8445', 111, 117), ('Q200', 145, 147), ('Q444353', 171, 175), ('Q61061', 183, 191), ('Q30', 200, 212), ('Q3220821', 230, 236), ('Q30', 245, 257), ('Q30', 262, 268), ('Q61', 273, 287), ('Q11651', 293, 299), ('Q30', 318, 330), ('Q30', 335, 341), ('Q2057908', 346, 351), ('Q22686', 360, 371), ('Q22686', 390, 401), ('Q8445', 406, 412), ('Q16279311', 417, 423), ('Q203', 449, 452), ('Q61061', 489, 497), ('Q30', 506, 518)],\n",
    "    [('Q782', 25, 30), ('Q61061', 61, 69), ('Q30', 78, 90), ('Q8445', 111, 117), ('Q200', 145, 147), ('Q444353', 171, 175), ('Q61061', 183, 191), ('Q30', 200, 212), ('Q3220821', 230, 236), ('Q30', 245, 257), ('Q30', 262, 268), ('Q61', 273, 287), ('Q11651', 293, 299), ('Q61061', 301, 309), ('Q30', 335, 341), ('Q2057908', 346, 351), ('Q22686', 360, 371), ('Q22686', 390, 401), ('Q8445', 406, 412), ('Q22686', 432, 443), ('Q22686', 464, 475), ('Q61061', 489, 497), ('Q30', 506, 518)],\n",
    "\n",
    "]"
   ]
  },
  {
   "cell_type": "code",
   "execution_count": 17,
   "metadata": {},
   "outputs": [
    {
     "ename": "KeyboardInterrupt",
     "evalue": "",
     "output_type": "error",
     "traceback": [
      "\u001b[0;31m---------------------------------------------------------------------------\u001b[0m",
      "\u001b[0;31mKeyboardInterrupt\u001b[0m                         Traceback (most recent call last)",
      "\u001b[1;32m/home/kg-augmented-lm/notebooks/03-mm-subgraph_retrieval.ipynb Cell 15\u001b[0m line \u001b[0;36m1\n\u001b[0;32m----> <a href='vscode-notebook-cell://wsl%2Bubuntu-22.04/home/kg-augmented-lm/notebooks/03-mm-subgraph_retrieval.ipynb#X15sdnNjb2RlLXJlbW90ZQ%3D%3D?line=0'>1</a>\u001b[0m subgraph \u001b[39m=\u001b[39m extract_subgraph_path_degree(gp\u001b[39m.\u001b[39;49mgraph, entities, k\u001b[39m=\u001b[39;49m\u001b[39m1\u001b[39;49m, max_nodes\u001b[39m=\u001b[39;49m\u001b[39m64\u001b[39;49m)\n",
      "\u001b[1;32m/home/kg-augmented-lm/notebooks/03-mm-subgraph_retrieval.ipynb Cell 15\u001b[0m line \u001b[0;36m3\n\u001b[1;32m     <a href='vscode-notebook-cell://wsl%2Bubuntu-22.04/home/kg-augmented-lm/notebooks/03-mm-subgraph_retrieval.ipynb#X15sdnNjb2RlLXJlbW90ZQ%3D%3D?line=29'>30</a>\u001b[0m     \u001b[39mfor\u001b[39;00m entity \u001b[39min\u001b[39;00m all_neighbors:\n\u001b[1;32m     <a href='vscode-notebook-cell://wsl%2Bubuntu-22.04/home/kg-augmented-lm/notebooks/03-mm-subgraph_retrieval.ipynb#X15sdnNjb2RlLXJlbW90ZQ%3D%3D?line=30'>31</a>\u001b[0m         vertex \u001b[39m=\u001b[39m find_vertex(gp\u001b[39m.\u001b[39mgraph, gp\u001b[39m.\u001b[39mgraph\u001b[39m.\u001b[39mvp\u001b[39m.\u001b[39mname, entity)[\u001b[39m0\u001b[39m]\n\u001b[0;32m---> <a href='vscode-notebook-cell://wsl%2Bubuntu-22.04/home/kg-augmented-lm/notebooks/03-mm-subgraph_retrieval.ipynb#X15sdnNjb2RlLXJlbW90ZQ%3D%3D?line=31'>32</a>\u001b[0m         current_neighbors\u001b[39m.\u001b[39mupdate(get_k_hop_neighbors(graph, vertex, k))\n\u001b[1;32m     <a href='vscode-notebook-cell://wsl%2Bubuntu-22.04/home/kg-augmented-lm/notebooks/03-mm-subgraph_retrieval.ipynb#X15sdnNjb2RlLXJlbW90ZQ%3D%3D?line=32'>33</a>\u001b[0m     all_neighbors\u001b[39m.\u001b[39mupdate(current_neighbors)\n\u001b[1;32m     <a href='vscode-notebook-cell://wsl%2Bubuntu-22.04/home/kg-augmented-lm/notebooks/03-mm-subgraph_retrieval.ipynb#X15sdnNjb2RlLXJlbW90ZQ%3D%3D?line=34'>35</a>\u001b[0m \u001b[39m# Convert set to list to work with indices\u001b[39;00m\n",
      "\u001b[1;32m/home/kg-augmented-lm/notebooks/03-mm-subgraph_retrieval.ipynb Cell 15\u001b[0m line \u001b[0;36m1\n\u001b[1;32m     <a href='vscode-notebook-cell://wsl%2Bubuntu-22.04/home/kg-augmented-lm/notebooks/03-mm-subgraph_retrieval.ipynb#X15sdnNjb2RlLXJlbW90ZQ%3D%3D?line=14'>15</a>\u001b[0m out_degree \u001b[39m=\u001b[39m graph\u001b[39m.\u001b[39mvertex(current_node)\u001b[39m.\u001b[39mout_degree()\n\u001b[1;32m     <a href='vscode-notebook-cell://wsl%2Bubuntu-22.04/home/kg-augmented-lm/notebooks/03-mm-subgraph_retrieval.ipynb#X15sdnNjb2RlLXJlbW90ZQ%3D%3D?line=15'>16</a>\u001b[0m in_degree \u001b[39m=\u001b[39m graph\u001b[39m.\u001b[39mvertex(current_node)\u001b[39m.\u001b[39min_degree()\n\u001b[0;32m---> <a href='vscode-notebook-cell://wsl%2Bubuntu-22.04/home/kg-augmented-lm/notebooks/03-mm-subgraph_retrieval.ipynb#X15sdnNjb2RlLXJlbW90ZQ%3D%3D?line=16'>17</a>\u001b[0m dummy_var \u001b[39m=\u001b[39m \u001b[39mNone\u001b[39;00m\n\u001b[1;32m     <a href='vscode-notebook-cell://wsl%2Bubuntu-22.04/home/kg-augmented-lm/notebooks/03-mm-subgraph_retrieval.ipynb#X15sdnNjb2RlLXJlbW90ZQ%3D%3D?line=17'>18</a>\u001b[0m \u001b[39mfor\u001b[39;00m neighbor \u001b[39min\u001b[39;00m graph\u001b[39m.\u001b[39mvertex(current_node)\u001b[39m.\u001b[39mall_neighbors():\n\u001b[1;32m     <a href='vscode-notebook-cell://wsl%2Bubuntu-22.04/home/kg-augmented-lm/notebooks/03-mm-subgraph_retrieval.ipynb#X15sdnNjb2RlLXJlbW90ZQ%3D%3D?line=18'>19</a>\u001b[0m     queue\u001b[39m.\u001b[39mappend((neighbor, distance \u001b[39m+\u001b[39m \u001b[39m1\u001b[39m))\n",
      "\u001b[1;32m/home/kg-augmented-lm/notebooks/03-mm-subgraph_retrieval.ipynb Cell 15\u001b[0m line \u001b[0;36m1\n\u001b[1;32m     <a href='vscode-notebook-cell://wsl%2Bubuntu-22.04/home/kg-augmented-lm/notebooks/03-mm-subgraph_retrieval.ipynb#X15sdnNjb2RlLXJlbW90ZQ%3D%3D?line=14'>15</a>\u001b[0m out_degree \u001b[39m=\u001b[39m graph\u001b[39m.\u001b[39mvertex(current_node)\u001b[39m.\u001b[39mout_degree()\n\u001b[1;32m     <a href='vscode-notebook-cell://wsl%2Bubuntu-22.04/home/kg-augmented-lm/notebooks/03-mm-subgraph_retrieval.ipynb#X15sdnNjb2RlLXJlbW90ZQ%3D%3D?line=15'>16</a>\u001b[0m in_degree \u001b[39m=\u001b[39m graph\u001b[39m.\u001b[39mvertex(current_node)\u001b[39m.\u001b[39min_degree()\n\u001b[0;32m---> <a href='vscode-notebook-cell://wsl%2Bubuntu-22.04/home/kg-augmented-lm/notebooks/03-mm-subgraph_retrieval.ipynb#X15sdnNjb2RlLXJlbW90ZQ%3D%3D?line=16'>17</a>\u001b[0m dummy_var \u001b[39m=\u001b[39m \u001b[39mNone\u001b[39;00m\n\u001b[1;32m     <a href='vscode-notebook-cell://wsl%2Bubuntu-22.04/home/kg-augmented-lm/notebooks/03-mm-subgraph_retrieval.ipynb#X15sdnNjb2RlLXJlbW90ZQ%3D%3D?line=17'>18</a>\u001b[0m \u001b[39mfor\u001b[39;00m neighbor \u001b[39min\u001b[39;00m graph\u001b[39m.\u001b[39mvertex(current_node)\u001b[39m.\u001b[39mall_neighbors():\n\u001b[1;32m     <a href='vscode-notebook-cell://wsl%2Bubuntu-22.04/home/kg-augmented-lm/notebooks/03-mm-subgraph_retrieval.ipynb#X15sdnNjb2RlLXJlbW90ZQ%3D%3D?line=18'>19</a>\u001b[0m     queue\u001b[39m.\u001b[39mappend((neighbor, distance \u001b[39m+\u001b[39m \u001b[39m1\u001b[39m))\n",
      "File \u001b[0;32m_pydevd_bundle/pydevd_cython.pyx:1457\u001b[0m, in \u001b[0;36m_pydevd_bundle.pydevd_cython.SafeCallWrapper.__call__\u001b[0;34m()\u001b[0m\n",
      "File \u001b[0;32m_pydevd_bundle/pydevd_cython.pyx:701\u001b[0m, in \u001b[0;36m_pydevd_bundle.pydevd_cython.PyDBFrame.trace_dispatch\u001b[0;34m()\u001b[0m\n",
      "File \u001b[0;32m_pydevd_bundle/pydevd_cython.pyx:1152\u001b[0m, in \u001b[0;36m_pydevd_bundle.pydevd_cython.PyDBFrame.trace_dispatch\u001b[0;34m()\u001b[0m\n",
      "File \u001b[0;32m_pydevd_bundle/pydevd_cython.pyx:1135\u001b[0m, in \u001b[0;36m_pydevd_bundle.pydevd_cython.PyDBFrame.trace_dispatch\u001b[0;34m()\u001b[0m\n",
      "File \u001b[0;32m_pydevd_bundle/pydevd_cython.pyx:312\u001b[0m, in \u001b[0;36m_pydevd_bundle.pydevd_cython.PyDBFrame.do_wait_suspend\u001b[0;34m()\u001b[0m\n",
      "File \u001b[0;32m~/miniconda3/envs/graph-tool/lib/python3.11/site-packages/debugpy/_vendored/pydevd/pydevd.py:2070\u001b[0m, in \u001b[0;36mPyDB.do_wait_suspend\u001b[0;34m(self, thread, frame, event, arg, exception_type)\u001b[0m\n\u001b[1;32m   2067\u001b[0m             from_this_thread\u001b[39m.\u001b[39mappend(frame_custom_thread_id)\n\u001b[1;32m   2069\u001b[0m     \u001b[39mwith\u001b[39;00m \u001b[39mself\u001b[39m\u001b[39m.\u001b[39m_threads_suspended_single_notification\u001b[39m.\u001b[39mnotify_thread_suspended(thread_id, thread, stop_reason):\n\u001b[0;32m-> 2070\u001b[0m         keep_suspended \u001b[39m=\u001b[39m \u001b[39mself\u001b[39;49m\u001b[39m.\u001b[39;49m_do_wait_suspend(thread, frame, event, arg, suspend_type, from_this_thread, frames_tracker)\n\u001b[1;32m   2072\u001b[0m frames_list \u001b[39m=\u001b[39m \u001b[39mNone\u001b[39;00m\n\u001b[1;32m   2074\u001b[0m \u001b[39mif\u001b[39;00m keep_suspended:\n\u001b[1;32m   2075\u001b[0m     \u001b[39m# This means that we should pause again after a set next statement.\u001b[39;00m\n",
      "File \u001b[0;32m~/miniconda3/envs/graph-tool/lib/python3.11/site-packages/debugpy/_vendored/pydevd/pydevd.py:2106\u001b[0m, in \u001b[0;36mPyDB._do_wait_suspend\u001b[0;34m(self, thread, frame, event, arg, suspend_type, from_this_thread, frames_tracker)\u001b[0m\n\u001b[1;32m   2103\u001b[0m         \u001b[39mself\u001b[39m\u001b[39m.\u001b[39m_call_input_hook()\n\u001b[1;32m   2105\u001b[0m     \u001b[39mself\u001b[39m\u001b[39m.\u001b[39mprocess_internal_commands()\n\u001b[0;32m-> 2106\u001b[0m     time\u001b[39m.\u001b[39msleep(\u001b[39m0.01\u001b[39m)\n\u001b[1;32m   2108\u001b[0m \u001b[39mself\u001b[39m\u001b[39m.\u001b[39mcancel_async_evaluation(get_current_thread_id(thread), \u001b[39mstr\u001b[39m(\u001b[39mid\u001b[39m(frame)))\n\u001b[1;32m   2110\u001b[0m \u001b[39m# process any stepping instructions\u001b[39;00m\n",
      "\u001b[0;31mKeyboardInterrupt\u001b[0m: "
     ]
    }
   ],
   "source": [
    "subgraph = extract_subgraph_path_degree(gp.graph, entities, k=1, max_nodes=64)"
   ]
  },
  {
   "cell_type": "code",
   "execution_count": 51,
   "metadata": {},
   "outputs": [],
   "source": [
    "def retrieve_pruned_khop_subgraph(graph, entities, k=2, min_connections=2):\n",
    "    \"\"\"\n",
    "    Retrieves a subgraph consisting of the k-hop neighbors of the given entities.\n",
    "    Prunes nodes at each hop that have fewer than 'min_connections' links to the \n",
    "    set of entities from the previous hop.\n",
    "    \n",
    "    :param graph: The graph_tool graph.\n",
    "    :param entities: List of entity names.\n",
    "    :param k: Depth of subgraph retrieval.\n",
    "    :param min_connections: Minimum number of connections a node must have to be retained.\n",
    "    \n",
    "    :return: A pruned subgraph.\n",
    "    \"\"\"\n",
    "\n",
    "    # Getting the vertex property map for entity names\n",
    "    vprop = graph.vp.name\n",
    "\n",
    "    # Convert entity names to vertices for initial set\n",
    "    current_vertices = [v for v in graph.vertices() if vprop[v] in entities]\n",
    "    all_retrieved_vertices = set(current_vertices)\n",
    "\n",
    "    for _ in range(k):\n",
    "        next_vertices = set()\n",
    "\n",
    "        # For each vertex in the current set, find its 1-hop neighbors\n",
    "        for v in current_vertices:\n",
    "            next_vertices.update(v.out_neighbors())\n",
    "            # next_vertices.update(v.in_neighbors())\n",
    "\n",
    "        # Prune neighbors that have fewer than 'min_connections' links to the current set of vertices\n",
    "        to_remove = set()\n",
    "        for neighbor in next_vertices:\n",
    "            links_to_current = sum(1 for out_neigh in neighbor.out_neighbors() if out_neigh in current_vertices)\n",
    "            # links_to_current += sum(1 for in_neigh in neighbor.in_neighbors() if in_neigh in current_vertices)\n",
    "            \n",
    "            if links_to_current < min_connections:\n",
    "                to_remove.add(neighbor)\n",
    "\n",
    "        next_vertices.difference_update(to_remove)\n",
    "        all_retrieved_vertices.update(next_vertices)\n",
    "\n",
    "        # Set next vertices as current vertices for the next iteration\n",
    "        current_vertices = list(next_vertices)\n",
    "\n",
    "    # Create a subgraph from the all retrieved vertices\n",
    "    subgraph = GraphView(graph, vfilt=lambda v: v in all_retrieved_vertices)\n",
    "\n",
    "    return subgraph\n"
   ]
  },
  {
   "cell_type": "code",
   "execution_count": 60,
   "metadata": {},
   "outputs": [],
   "source": [
    "pruned_subgraph = retrieve_pruned_khop_subgraph(gp.graph, entities, k=2, min_connections=2)"
   ]
  },
  {
   "cell_type": "code",
   "execution_count": 61,
   "metadata": {},
   "outputs": [
    {
     "data": {
      "text/plain": [
       "489"
      ]
     },
     "execution_count": 61,
     "metadata": {},
     "output_type": "execute_result"
    }
   ],
   "source": [
    "pruned_subgraph.num_vertices()"
   ]
  },
  {
   "cell_type": "code",
   "execution_count": 73,
   "metadata": {},
   "outputs": [],
   "source": [
    "import multiprocessing\n",
    "\n",
    "def _khop_worker(i, entity_list, graph, k, min_connections, results):\n",
    "    # Here, we'll recreate the method logic using passed parameters\n",
    "    subgraph = retrieve_pruned_khop_subgraph(entity_list, graph, k, min_connections)\n",
    "    results[i] = subgraph\n",
    "\n",
    "# def retrieve_pruned_khop_subgraph_standalone(entities, graph, k=1, min_connections=1):\n",
    "#     # The content of your original retrieve_pruned_khop_subgraph method\n",
    "#     # Make sure to replace all references to self.graph with graph\n",
    "#     ...\n",
    "\n",
    "def batch_retrieve_pruned_khop_subgraph(graph, batch_entities, k=1, min_connections=1, num_processes=None):\n",
    "    if not num_processes:\n",
    "        num_processes = multiprocessing.cpu_count()\n",
    "\n",
    "    manager = multiprocessing.Manager()\n",
    "    results = manager.list([None] * len(batch_entities))\n",
    "\n",
    "    with multiprocessing.Pool(processes=num_processes) as pool:\n",
    "        pool.starmap(_khop_worker, [(i, entity_list, graph, k, min_connections, results) for i, entity_list in enumerate(batch_entities)])\n",
    "\n",
    "    return list(results)\n",
    "\n"
   ]
  },
  {
   "cell_type": "code",
   "execution_count": 74,
   "metadata": {},
   "outputs": [
    {
     "ename": "KeyboardInterrupt",
     "evalue": "",
     "output_type": "error",
     "traceback": [
      "\u001b[0;31m---------------------------------------------------------------------------\u001b[0m",
      "\u001b[0;31mKeyboardInterrupt\u001b[0m                         Traceback (most recent call last)",
      "\u001b[1;32m/home/kg-augmented-lm/notebooks/03-mm-subgraph_retrieval.ipynb Cell 21\u001b[0m line \u001b[0;36m1\n\u001b[0;32m----> <a href='vscode-notebook-cell://wsl%2Bubuntu-22.04/home/kg-augmented-lm/notebooks/03-mm-subgraph_retrieval.ipynb#X32sdnNjb2RlLXJlbW90ZQ%3D%3D?line=0'>1</a>\u001b[0m batch_of_subgraphs \u001b[39m=\u001b[39m batch_retrieve_pruned_khop_subgraph(gp\u001b[39m.\u001b[39;49mgraph, batch_of_entities, k\u001b[39m=\u001b[39;49m\u001b[39m2\u001b[39;49m, min_connections\u001b[39m=\u001b[39;49m\u001b[39m2\u001b[39;49m)\n",
      "\u001b[1;32m/home/kg-augmented-lm/notebooks/03-mm-subgraph_retrieval.ipynb Cell 21\u001b[0m line \u001b[0;36m2\n\u001b[1;32m     <a href='vscode-notebook-cell://wsl%2Bubuntu-22.04/home/kg-augmented-lm/notebooks/03-mm-subgraph_retrieval.ipynb#X32sdnNjb2RlLXJlbW90ZQ%3D%3D?line=17'>18</a>\u001b[0m results \u001b[39m=\u001b[39m manager\u001b[39m.\u001b[39mlist([\u001b[39mNone\u001b[39;00m] \u001b[39m*\u001b[39m \u001b[39mlen\u001b[39m(batch_entities))\n\u001b[1;32m     <a href='vscode-notebook-cell://wsl%2Bubuntu-22.04/home/kg-augmented-lm/notebooks/03-mm-subgraph_retrieval.ipynb#X32sdnNjb2RlLXJlbW90ZQ%3D%3D?line=19'>20</a>\u001b[0m \u001b[39mwith\u001b[39;00m multiprocessing\u001b[39m.\u001b[39mPool(processes\u001b[39m=\u001b[39mnum_processes) \u001b[39mas\u001b[39;00m pool:\n\u001b[0;32m---> <a href='vscode-notebook-cell://wsl%2Bubuntu-22.04/home/kg-augmented-lm/notebooks/03-mm-subgraph_retrieval.ipynb#X32sdnNjb2RlLXJlbW90ZQ%3D%3D?line=20'>21</a>\u001b[0m     pool\u001b[39m.\u001b[39;49mstarmap(_khop_worker, [(i, entity_list, graph, k, min_connections, results) \u001b[39mfor\u001b[39;49;00m i, entity_list \u001b[39min\u001b[39;49;00m \u001b[39menumerate\u001b[39;49m(batch_entities)])\n\u001b[1;32m     <a href='vscode-notebook-cell://wsl%2Bubuntu-22.04/home/kg-augmented-lm/notebooks/03-mm-subgraph_retrieval.ipynb#X32sdnNjb2RlLXJlbW90ZQ%3D%3D?line=22'>23</a>\u001b[0m \u001b[39mreturn\u001b[39;00m \u001b[39mlist\u001b[39m(results)\n",
      "File \u001b[0;32m~/miniconda3/envs/graph-tool/lib/python3.11/multiprocessing/pool.py:375\u001b[0m, in \u001b[0;36mPool.starmap\u001b[0;34m(self, func, iterable, chunksize)\u001b[0m\n\u001b[1;32m    369\u001b[0m \u001b[39mdef\u001b[39;00m \u001b[39mstarmap\u001b[39m(\u001b[39mself\u001b[39m, func, iterable, chunksize\u001b[39m=\u001b[39m\u001b[39mNone\u001b[39;00m):\n\u001b[1;32m    370\u001b[0m \u001b[39m    \u001b[39m\u001b[39m'''\u001b[39;00m\n\u001b[1;32m    371\u001b[0m \u001b[39m    Like `map()` method but the elements of the `iterable` are expected to\u001b[39;00m\n\u001b[1;32m    372\u001b[0m \u001b[39m    be iterables as well and will be unpacked as arguments. Hence\u001b[39;00m\n\u001b[1;32m    373\u001b[0m \u001b[39m    `func` and (a, b) becomes func(a, b).\u001b[39;00m\n\u001b[1;32m    374\u001b[0m \u001b[39m    '''\u001b[39;00m\n\u001b[0;32m--> 375\u001b[0m     \u001b[39mreturn\u001b[39;00m \u001b[39mself\u001b[39;49m\u001b[39m.\u001b[39;49m_map_async(func, iterable, starmapstar, chunksize)\u001b[39m.\u001b[39;49mget()\n",
      "File \u001b[0;32m~/miniconda3/envs/graph-tool/lib/python3.11/multiprocessing/pool.py:768\u001b[0m, in \u001b[0;36mApplyResult.get\u001b[0;34m(self, timeout)\u001b[0m\n\u001b[1;32m    767\u001b[0m \u001b[39mdef\u001b[39;00m \u001b[39mget\u001b[39m(\u001b[39mself\u001b[39m, timeout\u001b[39m=\u001b[39m\u001b[39mNone\u001b[39;00m):\n\u001b[0;32m--> 768\u001b[0m     \u001b[39mself\u001b[39;49m\u001b[39m.\u001b[39;49mwait(timeout)\n\u001b[1;32m    769\u001b[0m     \u001b[39mif\u001b[39;00m \u001b[39mnot\u001b[39;00m \u001b[39mself\u001b[39m\u001b[39m.\u001b[39mready():\n\u001b[1;32m    770\u001b[0m         \u001b[39mraise\u001b[39;00m \u001b[39mTimeoutError\u001b[39;00m\n",
      "File \u001b[0;32m~/miniconda3/envs/graph-tool/lib/python3.11/multiprocessing/pool.py:765\u001b[0m, in \u001b[0;36mApplyResult.wait\u001b[0;34m(self, timeout)\u001b[0m\n\u001b[1;32m    764\u001b[0m \u001b[39mdef\u001b[39;00m \u001b[39mwait\u001b[39m(\u001b[39mself\u001b[39m, timeout\u001b[39m=\u001b[39m\u001b[39mNone\u001b[39;00m):\n\u001b[0;32m--> 765\u001b[0m     \u001b[39mself\u001b[39;49m\u001b[39m.\u001b[39;49m_event\u001b[39m.\u001b[39;49mwait(timeout)\n",
      "File \u001b[0;32m~/miniconda3/envs/graph-tool/lib/python3.11/threading.py:622\u001b[0m, in \u001b[0;36mEvent.wait\u001b[0;34m(self, timeout)\u001b[0m\n\u001b[1;32m    620\u001b[0m signaled \u001b[39m=\u001b[39m \u001b[39mself\u001b[39m\u001b[39m.\u001b[39m_flag\n\u001b[1;32m    621\u001b[0m \u001b[39mif\u001b[39;00m \u001b[39mnot\u001b[39;00m signaled:\n\u001b[0;32m--> 622\u001b[0m     signaled \u001b[39m=\u001b[39m \u001b[39mself\u001b[39;49m\u001b[39m.\u001b[39;49m_cond\u001b[39m.\u001b[39;49mwait(timeout)\n\u001b[1;32m    623\u001b[0m \u001b[39mreturn\u001b[39;00m signaled\n",
      "File \u001b[0;32m~/miniconda3/envs/graph-tool/lib/python3.11/threading.py:320\u001b[0m, in \u001b[0;36mCondition.wait\u001b[0;34m(self, timeout)\u001b[0m\n\u001b[1;32m    318\u001b[0m \u001b[39mtry\u001b[39;00m:    \u001b[39m# restore state no matter what (e.g., KeyboardInterrupt)\u001b[39;00m\n\u001b[1;32m    319\u001b[0m     \u001b[39mif\u001b[39;00m timeout \u001b[39mis\u001b[39;00m \u001b[39mNone\u001b[39;00m:\n\u001b[0;32m--> 320\u001b[0m         waiter\u001b[39m.\u001b[39;49macquire()\n\u001b[1;32m    321\u001b[0m         gotit \u001b[39m=\u001b[39m \u001b[39mTrue\u001b[39;00m\n\u001b[1;32m    322\u001b[0m     \u001b[39melse\u001b[39;00m:\n",
      "\u001b[0;31mKeyboardInterrupt\u001b[0m: "
     ]
    }
   ],
   "source": [
    "batch_of_subgraphs = batch_retrieve_pruned_khop_subgraph(gp.graph, batch_of_entities, k=2, min_connections=2)"
   ]
  },
  {
   "cell_type": "code",
   "execution_count": null,
   "metadata": {},
   "outputs": [],
   "source": []
  }
 ],
 "metadata": {
  "kernelspec": {
   "display_name": "kg-augmented-lm",
   "language": "python",
   "name": "python3"
  },
  "language_info": {
   "codemirror_mode": {
    "name": "ipython",
    "version": 3
   },
   "file_extension": ".py",
   "mimetype": "text/x-python",
   "name": "python",
   "nbconvert_exporter": "python",
   "pygments_lexer": "ipython3",
   "version": "3.11.5"
  },
  "orig_nbformat": 4
 },
 "nbformat": 4,
 "nbformat_minor": 2
}
