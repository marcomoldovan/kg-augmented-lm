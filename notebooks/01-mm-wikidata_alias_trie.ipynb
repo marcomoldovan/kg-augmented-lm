{
 "cells": [
  {
   "cell_type": "code",
   "execution_count": 2,
   "metadata": {},
   "outputs": [],
   "source": [
    "import os\n",
    "import sys\n",
    "import time\n",
    "import gzip\n",
    "import json\n",
    "import marisa_trie"
   ]
  },
  {
   "cell_type": "code",
   "execution_count": 6,
   "metadata": {},
   "outputs": [
    {
     "name": "stdout",
     "output_type": "stream",
     "text": [
      "[('Q1142885', 4618643), ('Q10802388', 3971598), ('Q668', 3888098), ('Q577', 2441043), ('Q678', 2256476), ('Q189', 1218531), ('Q16641', 1117499), ('Q9288', 971308), ('Q184', 925012), ('Q1904', 848437), ('Q1196074', 794585), ('Q40', 728232), ('Q8765', 515346), ('Q38', 422724), ('Q7949021', 315755), ('Q6091500', 282013), ('Q824', 275737), ('Q7783619', 266394), ('Q444353', 257491), ('Q31', 237433), ('Q199', 231632), ('Q1153959', 230557), ('Q1954619', 227307), ('Q200', 207309), ('Q5727902', 181795), ('Q1270787', 176861), ('Q1059536', 164594), ('Q9081', 148385), ('Q1881711', 145854), ('Q18035109', 142465), ('Q1046315', 139058), ('Q16158056', 137625), ('Q10853543', 137058), ('Q13219273', 134932), ('Q3918', 120050), ('Q30', 118727), ('Q4', 115345), ('Q1185341', 109646), ('Q7560553', 101912), ('Q201', 100929), ('Q16', 99917), ('Q163838', 96846), ('Q7993606', 96802), ('Q183', 95400), ('Q2037045', 95303), ('Q510472', 90053), ('Q7704489', 89641), ('Q203872', 88772), ('Q82799', 85800), ('Q43483', 85789), ('Q2231030', 85695), ('Q587626', 84549), ('Q829073', 84133), ('Q379825', 83995), ('Q617884', 83874), ('Q42132', 80759), ('Q482994', 79659), ('Q2221906', 78767), ('Q4830453', 76803), ('Q180958', 76425), ('Q7783326', 71962), ('Q3972943', 71470), ('Q5', 71308), ('Q186408', 70682), ('Q37260', 69456), ('Q489322', 65013), ('Q618779', 64905), ('Q11213', 64871), ('Q20', 60665), ('Q4937362', 59645), ('Q202', 59023), ('Q7824021', 59006), ('Q174769', 58998), ('Q18032797', 57810), ('Q82794', 55843), ('Q11410', 55739), ('Q203', 55644), ('Q6293', 53866), ('Q193168', 53033), ('Q1079369', 52697), ('Q1624317', 52620), ('Q50000', 51726), ('Q1432029', 51526), ('Q842438', 50296), ('Q7305365', 49509), ('Q8445', 49135), ('Q7188', 48819), ('Q2088357', 47658), ('Q23488', 47573), ('Q728879', 47378), ('Q5347252', 47347), ('Q638', 46852), ('Q657449', 46404), ('Q61061', 46378), ('Q408', 46250), ('Q25504', 46078), ('Q33829', 45262), ('Q3497613', 44834), ('Q492316', 44486), ('Q735', 44414)]\n"
     ]
    }
   ],
   "source": [
    "# inspect entity mentions for the corpus to find a good cutoff\n",
    "with gzip.open('../data/wikidata5m/wikidata5m_entity_mentions.json.gz', 'rt') as f:\n",
    "    mentions = json.load(f)\n",
    "    sorted_mentions = sorted(mentions.items(), key=lambda x: x[1], reverse=True)\n",
    "    print(sorted_mentions[:100])"
   ]
  },
  {
   "cell_type": "code",
   "execution_count": null,
   "metadata": {},
   "outputs": [],
   "source": [
    "# count number of documents in the corpus\n",
    "corpus_path = '../data/wikidata5m/wikidata5m_text.txt.gz'\n",
    "\n",
    "num_docs = 0\n",
    "num_tokens = 0\n",
    "num_long_docs = 0\n",
    "min_doc_len = 128\n",
    "\n",
    "with gzip.open(corpus_path, 'rt') as f:\n",
    "    for line in f:\n",
    "        tokens_per_doc = len(line.strip().split('\\t')[1].split())\n",
    "        num_docs += 1\n",
    "        num_tokens += tokens_per_doc\n",
    "        if tokens_per_doc > min_doc_len:\n",
    "            num_long_docs += 1\n",
    "            \n",
    "print('Number of documents: {:,}'.format(num_docs))\n",
    "print('Number of tokens: {:,}'.format(num_tokens))\n",
    "print('Number of documents above {:,} tokens: {:,}'.format(min_doc_len, num_long_docs))"
   ]
  },
  {
   "cell_type": "code",
   "execution_count": 9,
   "metadata": {},
   "outputs": [],
   "source": [
    "with gzip.open('../data/wikidata5m/wikidata5m_alias.tar.gz', 'rt', encoding='latin-1') as file:\n",
    "    lines = file.readlines()[1:4813490]\n",
    "    for line in lines:\n",
    "        parts = line.strip().split('\\t')\n",
    "        entity_id, aliases = parts[0], parts[1:]\n",
    "        if len(aliases) == 0:\n",
    "            print(entity_id)"
   ]
  },
  {
   "cell_type": "code",
   "execution_count": 2,
   "metadata": {},
   "outputs": [],
   "source": [
    "def build_marisa_trie_from_aliases(alias_file):\n",
    "    # Read the aliases file\n",
    "    with gzip.open(alias_file, 'rt', encoding='latin-1') as file:\n",
    "        lines = file.readlines()[1:4813490]\n",
    "    \n",
    "    alias_to_id = {}\n",
    "    for line in lines:\n",
    "        aliases = line.strip().split('\\t')\n",
    "        for alias in aliases[1:]:\n",
    "            alias_to_id[alias] = aliases[0]\n",
    "\n",
    "    # Build the marisa-trie\n",
    "    start_time = time.time()\n",
    "    trie = marisa_trie.Trie(alias_to_id.keys())\n",
    "    end_time = time.time()\n",
    "    build_time = end_time - start_time\n",
    "\n",
    "    # Get memory usage (rough estimate)\n",
    "    memory_usage = sys.getsizeof(trie)\n",
    "\n",
    "    return trie, alias_to_id, build_time, memory_usage\n",
    "\n",
    "def get_id_from_marisa_trie(trie, alias_to_id, alias):\n",
    "    start_time = time.time()\n",
    "    if alias in trie:\n",
    "        entity_id = alias_to_id[alias]\n",
    "    else:\n",
    "        entity_id = None\n",
    "    end_time = time.time()\n",
    "    lookup_time = end_time - start_time\n",
    "\n",
    "    return entity_id, lookup_time"
   ]
  },
  {
   "cell_type": "code",
   "execution_count": 3,
   "metadata": {},
   "outputs": [],
   "source": [
    "alias_filepath = os.path.join(os.getcwd(), '../data/wikidata5m/wikidata5m_alias.tar.gz')\n",
    "alias = 'Barack Obama'"
   ]
  },
  {
   "cell_type": "code",
   "execution_count": 5,
   "metadata": {},
   "outputs": [],
   "source": [
    "with gzip.open(alias_filepath, 'rt', encoding='latin-1') as file:\n",
    "    lines = file.readlines()[1:4813490]"
   ]
  },
  {
   "cell_type": "code",
   "execution_count": 6,
   "metadata": {},
   "outputs": [
    {
     "data": {
      "text/plain": [
       "['Q912600',\n",
       " 'Straumur-BurÃ°arÃ¡s',\n",
       " 'Straumur',\n",
       " 'straumurâ\\x80\\x93burÃ°arÃ¡s investment bank',\n",
       " 'straumur',\n",
       " 'Straumur-BurÃ°arÃ¡s Investment Bank',\n",
       " 'straumur-burÃ°arÃ¡s investment bank',\n",
       " 'straumur investment bank',\n",
       " 'straumur-burÃ°arÃ¡s fjÃ¡rf.banki',\n",
       " 'Straumur-BurÃ°arÃ¡s FjÃ¡rf.banki',\n",
       " 'straumur-burÃ°arÃ¡s',\n",
       " 'Straumur Investment Bank',\n",
       " 'Straumurâ\\x80\\x93BurÃ°arÃ¡s Investment Bank\\n']"
      ]
     },
     "execution_count": 6,
     "metadata": {},
     "output_type": "execute_result"
    }
   ],
   "source": [
    "lines[0].split('\\t')"
   ]
  },
  {
   "cell_type": "code",
   "execution_count": 7,
   "metadata": {},
   "outputs": [
    {
     "name": "stdout",
     "output_type": "stream",
     "text": [
      "Marisa-trie build time:  51.67834234237671\n",
      "Marisa-trie memory usage:  32  bytes\n",
      "Marisa-trie lookup time:  1.2159347534179688e-05\n",
      "Marisa-trie entity id:  Q76\n"
     ]
    }
   ],
   "source": [
    "marisa_trie, alias_to_id_dict, marisa_build_time, marisa_memory = build_marisa_trie_from_aliases(alias_filepath)\n",
    "entity_id, marisa_lookup_time = get_id_from_marisa_trie(marisa_trie, alias_to_id_dict, alias)\n",
    "\n",
    "print('Marisa-trie build time: ', marisa_build_time)\n",
    "print('Marisa-trie memory usage: ', marisa_memory, ' bytes')\n",
    "print('Marisa-trie lookup time: ', marisa_lookup_time)\n",
    "print('Marisa-trie entity id: ', entity_id)"
   ]
  }
 ],
 "metadata": {
  "kernelspec": {
   "display_name": "kg-augmented-lm-3.11.5",
   "language": "python",
   "name": "python3"
  },
  "language_info": {
   "codemirror_mode": {
    "name": "ipython",
    "version": 3
   },
   "file_extension": ".py",
   "mimetype": "text/x-python",
   "name": "python",
   "nbconvert_exporter": "python",
   "pygments_lexer": "ipython3",
   "version": "3.11.5"
  },
  "orig_nbformat": 4
 },
 "nbformat": 4,
 "nbformat_minor": 2
}
