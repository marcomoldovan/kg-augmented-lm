{
 "cells": [
  {
   "cell_type": "code",
   "execution_count": 1,
   "metadata": {},
   "outputs": [],
   "source": [
    "import os\n",
    "import sys\n",
    "import time\n",
    "import gzip\n",
    "import marisa_trie"
   ]
  },
  {
   "cell_type": "code",
   "execution_count": 2,
   "metadata": {},
   "outputs": [],
   "source": [
    "def build_marisa_trie_from_aliases(alias_file):\n",
    "    # Read the aliases file\n",
    "    with gzip.open(alias_file, 'rt', encoding='latin-1') as file:\n",
    "        lines = file.readlines()[1:4813490]\n",
    "    \n",
    "    alias_to_id = {}\n",
    "    for line in lines:\n",
    "        aliases = line.strip().split('\\t')\n",
    "        for alias in aliases[1:]:\n",
    "            alias_to_id[alias] = aliases[0]\n",
    "\n",
    "    # Build the marisa-trie\n",
    "    start_time = time.time()\n",
    "    trie = marisa_trie.Trie(alias_to_id.keys())\n",
    "    end_time = time.time()\n",
    "    build_time = end_time - start_time\n",
    "\n",
    "    # Get memory usage (rough estimate)\n",
    "    memory_usage = sys.getsizeof(trie)\n",
    "\n",
    "    return trie, alias_to_id, build_time, memory_usage\n",
    "\n",
    "def get_id_from_marisa_trie(trie, alias_to_id, alias):\n",
    "    start_time = time.time()\n",
    "    if alias in trie:\n",
    "        entity_id = alias_to_id[alias]\n",
    "    else:\n",
    "        entity_id = None\n",
    "    end_time = time.time()\n",
    "    lookup_time = end_time - start_time\n",
    "\n",
    "    return entity_id, lookup_time"
   ]
  },
  {
   "cell_type": "code",
   "execution_count": 3,
   "metadata": {},
   "outputs": [],
   "source": [
    "alias_filepath = os.path.join(os.getcwd(), '../data/wikidata5m/wikidata5m_alias.tar.gz')\n",
    "alias = 'Barack Obama'"
   ]
  },
  {
   "cell_type": "code",
   "execution_count": 5,
   "metadata": {},
   "outputs": [],
   "source": [
    "with gzip.open(alias_filepath, 'rt', encoding='latin-1') as file:\n",
    "    lines = file.readlines()[1:4813490]"
   ]
  },
  {
   "cell_type": "code",
   "execution_count": 6,
   "metadata": {},
   "outputs": [
    {
     "data": {
      "text/plain": [
       "['Q912600',\n",
       " 'Straumur-BurÃ°arÃ¡s',\n",
       " 'Straumur',\n",
       " 'straumurâ\\x80\\x93burÃ°arÃ¡s investment bank',\n",
       " 'straumur',\n",
       " 'Straumur-BurÃ°arÃ¡s Investment Bank',\n",
       " 'straumur-burÃ°arÃ¡s investment bank',\n",
       " 'straumur investment bank',\n",
       " 'straumur-burÃ°arÃ¡s fjÃ¡rf.banki',\n",
       " 'Straumur-BurÃ°arÃ¡s FjÃ¡rf.banki',\n",
       " 'straumur-burÃ°arÃ¡s',\n",
       " 'Straumur Investment Bank',\n",
       " 'Straumurâ\\x80\\x93BurÃ°arÃ¡s Investment Bank\\n']"
      ]
     },
     "execution_count": 6,
     "metadata": {},
     "output_type": "execute_result"
    }
   ],
   "source": [
    "lines[0].split('\\t')"
   ]
  },
  {
   "cell_type": "code",
   "execution_count": 7,
   "metadata": {},
   "outputs": [
    {
     "name": "stdout",
     "output_type": "stream",
     "text": [
      "Marisa-trie build time:  51.67834234237671\n",
      "Marisa-trie memory usage:  32  bytes\n",
      "Marisa-trie lookup time:  1.2159347534179688e-05\n",
      "Marisa-trie entity id:  Q76\n"
     ]
    }
   ],
   "source": [
    "marisa_trie, alias_to_id_dict, marisa_build_time, marisa_memory = build_marisa_trie_from_aliases(alias_filepath)\n",
    "entity_id, marisa_lookup_time = get_id_from_marisa_trie(marisa_trie, alias_to_id_dict, alias)\n",
    "\n",
    "print('Marisa-trie build time: ', marisa_build_time)\n",
    "print('Marisa-trie memory usage: ', marisa_memory, ' bytes')\n",
    "print('Marisa-trie lookup time: ', marisa_lookup_time)\n",
    "print('Marisa-trie entity id: ', entity_id)"
   ]
  }
 ],
 "metadata": {
  "kernelspec": {
   "display_name": "kg-augmented-lm-3.11.5",
   "language": "python",
   "name": "python3"
  },
  "language_info": {
   "codemirror_mode": {
    "name": "ipython",
    "version": 3
   },
   "file_extension": ".py",
   "mimetype": "text/x-python",
   "name": "python",
   "nbconvert_exporter": "python",
   "pygments_lexer": "ipython3",
   "version": "3.11.5"
  },
  "orig_nbformat": 4
 },
 "nbformat": 4,
 "nbformat_minor": 2
}
